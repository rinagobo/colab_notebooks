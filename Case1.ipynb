{
  "cells": [
    {
      "cell_type": "markdown",
      "metadata": {
        "id": "view-in-github",
        "colab_type": "text"
      },
      "source": [
        "<a href=\"https://colab.research.google.com/github/rinagobo/colab_notebooks/blob/main/Case1.ipynb\" target=\"_parent\"><img src=\"https://colab.research.google.com/assets/colab-badge.svg\" alt=\"Open In Colab\"/></a>"
      ]
    },
    {
      "cell_type": "markdown",
      "metadata": {
        "id": "YDur3IuyB5VK"
      },
      "source": [
        "# Case Study: How Does a Bike-Share Navigate Speedy Success?"
      ]
    },
    {
      "cell_type": "code",
      "execution_count": null,
      "metadata": {
        "colab": {
          "base_uri": "https://localhost:8080/"
        },
        "id": "psR15Kf1CFpL",
        "outputId": "15fc36d2-575f-4f6b-951e-48ead24b0794"
      },
      "outputs": [
        {
          "output_type": "stream",
          "name": "stdout",
          "text": [
            "Requirement already satisfied: plotly in /usr/local/lib/python3.10/dist-packages (5.15.0)\n",
            "Collecting plotly\n",
            "  Downloading plotly-5.16.1-py2.py3-none-any.whl (15.6 MB)\n",
            "\u001b[2K     \u001b[90m━━━━━━━━━━━━━━━━━━━━━━━━━━━━━━━━━━━━━━━━\u001b[0m \u001b[32m15.6/15.6 MB\u001b[0m \u001b[31m32.6 MB/s\u001b[0m eta \u001b[36m0:00:00\u001b[0m\n",
            "\u001b[?25hRequirement already satisfied: tenacity>=6.2.0 in /usr/local/lib/python3.10/dist-packages (from plotly) (8.2.3)\n",
            "Requirement already satisfied: packaging in /usr/local/lib/python3.10/dist-packages (from plotly) (23.1)\n",
            "Installing collected packages: plotly\n",
            "  Attempting uninstall: plotly\n",
            "    Found existing installation: plotly 5.15.0\n",
            "    Uninstalling plotly-5.15.0:\n",
            "      Successfully uninstalled plotly-5.15.0\n",
            "Successfully installed plotly-5.16.1\n"
          ]
        }
      ],
      "source": [
        "%pip install --upgrade plotly"
      ]
    },
    {
      "cell_type": "code",
      "execution_count": null,
      "metadata": {
        "id": "dTs4FgDgJ1YQ"
      },
      "outputs": [],
      "source": [
        "import numpy as np\n",
        "import pandas as pd\n",
        "import plotly.express as px\n",
        "import matplotlib.pyplot as plt\n",
        "import seaborn as sns"
      ]
    },
    {
      "cell_type": "code",
      "execution_count": null,
      "metadata": {
        "id": "qFsOtAL9J8kQ"
      },
      "outputs": [],
      "source": [
        "pd.options.display.float_format = '{:,.2f}'.format"
      ]
    },
    {
      "cell_type": "markdown",
      "metadata": {
        "id": "tFoa5E4hMXrj"
      },
      "source": [
        "**1. Explore each dataset before combining all as a whole year**\n",
        "\n"
      ]
    },
    {
      "cell_type": "code",
      "execution_count": null,
      "metadata": {
        "id": "8WwtDE9JJ_bH"
      },
      "outputs": [],
      "source": [
        "df_08 = pd.read_csv(\"202208-divvy-tripdata.csv\", quoting=3)\n",
        "df_09 = pd.read_csv(\"202209-divvy-tripdata.csv\", quoting=3)\n",
        "df_10 = pd.read_csv(\"202210-divvy-tripdata.csv\", quoting=3)\n",
        "df_11 = pd.read_csv(\"202211-divvy-tripdata.csv\", quoting=3)\n",
        "df_12 = pd.read_csv(\"202212-divvy-tripdata.csv\", quoting=3)\n",
        "df_01 = pd.read_csv(\"202301-divvy-tripdata.csv\", quoting=3)\n",
        "df_02 = pd.read_csv(\"202302-divvy-tripdata.csv\", quoting=3)\n",
        "df_03 = pd.read_csv(\"202303-divvy-tripdata.csv\", quoting=3)\n",
        "df_04 = pd.read_csv(\"202304-divvy-tripdata.csv\", quoting=3)\n",
        "df_05 = pd.read_csv(\"202305-divvy-tripdata.csv\", quoting=3)\n",
        "df_06 = pd.read_csv(\"202306-divvy-tripdata.csv\", quoting=3)\n",
        "df_07 = pd.read_csv(\"202307-divvy-tripdata.csv\", quoting=3)"
      ]
    },
    {
      "cell_type": "code",
      "execution_count": null,
      "metadata": {
        "colab": {
          "base_uri": "https://localhost:8080/"
        },
        "id": "eQqq72jZMzjM",
        "outputId": "823b988f-8818-4a8c-8f21-91bb6158ec92"
      },
      "outputs": [
        {
          "data": {
            "text/plain": [
              "(119536, 13)"
            ]
          },
          "execution_count": 34,
          "metadata": {},
          "output_type": "execute_result"
        }
      ],
      "source": [
        "df_08.shape # (121915, 13)\n",
        "df_09.shape # (119536, 13)\n",
        "df_10.shape # (105378, 13)\n",
        "df_11.shape # (111138, 13)\n",
        "df_12.shape # (111145, 13)\n",
        "df_01.shape # (123012, 13)\n",
        "df_02.shape # (121986, 13)\n",
        "df_03.shape # (111480, 13)\n",
        "df_04.shape # (111924, 13)\n",
        "df_05.shape # (101005, 13)\n",
        "df_06.shape # (99281, 13)\n",
        "df_07.shape # (92249, 13)"
      ]
    },
    {
      "cell_type": "code",
      "execution_count": null,
      "metadata": {
        "colab": {
          "base_uri": "https://localhost:8080/"
        },
        "id": "PH2h5kNXNJOB",
        "outputId": "6d77a346-b071-4e1d-e06d-b1461532197b"
      },
      "outputs": [
        {
          "output_type": "execute_result",
          "data": {
            "text/plain": [
              "(51797, 5)"
            ]
          },
          "metadata": {},
          "execution_count": 5
        }
      ],
      "source": [
        "df_08.columns\n",
        "new_df_08 = df_08.drop(['start_station_name', 'start_station_id', 'end_station_name',\n",
        "       'end_station_id', 'start_lat', 'start_lng', 'end_lat', 'end_lng'], axis = 1, inplace = False)\n",
        "new_df_08.shape"
      ]
    },
    {
      "cell_type": "code",
      "execution_count": null,
      "metadata": {
        "colab": {
          "base_uri": "https://localhost:8080/"
        },
        "id": "qzVBIHH0NZ4U",
        "outputId": "b4cc6d73-db9a-4ddb-844a-95a0e3a0e01b"
      },
      "outputs": [
        {
          "output_type": "execute_result",
          "data": {
            "text/plain": [
              "(56581, 5)"
            ]
          },
          "metadata": {},
          "execution_count": 6
        }
      ],
      "source": [
        "new_09_columns = [col[1:-1] for col in df_09.columns]\n",
        "df_09.columns = new_09_columns\n",
        "df_09.columns\n",
        "\n",
        "new_df_09 = df_09.drop(['start_station_name', 'start_station_id', 'end_station_name',\n",
        "       'end_station_id', 'start_lat', 'start_lng', 'end_lat', 'end_lng'], axis = 1, inplace = False)\n",
        "new_df_09.shape"
      ]
    },
    {
      "cell_type": "code",
      "execution_count": null,
      "metadata": {
        "colab": {
          "base_uri": "https://localhost:8080/"
        },
        "id": "ezhg71JVNesn",
        "outputId": "3e13c466-4006-4b0c-bd53-5f06eb820b42"
      },
      "outputs": [
        {
          "output_type": "execute_result",
          "data": {
            "text/plain": [
              "(45129, 5)"
            ]
          },
          "metadata": {},
          "execution_count": 7
        }
      ],
      "source": [
        "new_10_columns = [col[1:-1] for col in df_10.columns]\n",
        "df_10.columns = new_10_columns\n",
        "df_10.columns\n",
        "\n",
        "new_df_10 = df_10.drop(['start_station_name', 'start_station_id', 'end_station_name',\n",
        "       'end_station_id', 'start_lat', 'start_lng', 'end_lat', 'end_lng'], axis = 1, inplace = False)\n",
        "new_df_10.shape"
      ]
    },
    {
      "cell_type": "code",
      "execution_count": null,
      "metadata": {
        "colab": {
          "base_uri": "https://localhost:8080/"
        },
        "id": "bfK_CeUaNilx",
        "outputId": "1cff5157-6b50-46bd-f9ea-f69ebe1bb025"
      },
      "outputs": [
        {
          "output_type": "execute_result",
          "data": {
            "text/plain": [
              "(56638, 5)"
            ]
          },
          "metadata": {},
          "execution_count": 8
        }
      ],
      "source": [
        "new_11_columns = [col[1:-1] for col in df_11.columns]\n",
        "df_11.columns = new_11_columns\n",
        "df_11.columns\n",
        "\n",
        "new_df_11 = df_11.drop(['start_station_name', 'start_station_id', 'end_station_name',\n",
        "       'end_station_id', 'start_lat', 'start_lng', 'end_lat', 'end_lng'], axis = 1, inplace = False)\n",
        "new_df_11.shape"
      ]
    },
    {
      "cell_type": "code",
      "execution_count": null,
      "metadata": {
        "colab": {
          "base_uri": "https://localhost:8080/"
        },
        "id": "noaRUGvaNtHr",
        "outputId": "481051fe-d563-4379-d2a6-e0db66da636c"
      },
      "outputs": [
        {
          "output_type": "execute_result",
          "data": {
            "text/plain": [
              "(76025, 5)"
            ]
          },
          "metadata": {},
          "execution_count": 9
        }
      ],
      "source": [
        "new_12_columns = [col[1:-1] for col in df_12.columns]\n",
        "df_12.columns = new_12_columns\n",
        "df_12.columns\n",
        "\n",
        "new_df_12 = df_12.drop(['start_station_name', 'start_station_id', 'end_station_name',\n",
        "       'end_station_id', 'start_lat', 'start_lng', 'end_lat', 'end_lng'], axis = 1, inplace = False)\n",
        "new_df_12.shape"
      ]
    },
    {
      "cell_type": "code",
      "execution_count": null,
      "metadata": {
        "id": "k8yfS9mSNxJn",
        "colab": {
          "base_uri": "https://localhost:8080/"
        },
        "outputId": "321f22e6-e948-4fb4-fd91-efea43ddb8d1"
      },
      "outputs": [
        {
          "output_type": "execute_result",
          "data": {
            "text/plain": [
              "(70165, 5)"
            ]
          },
          "metadata": {},
          "execution_count": 10
        }
      ],
      "source": [
        "new_01_columns = [col[1:-1] for col in df_01.columns]\n",
        "df_01.columns = new_01_columns\n",
        "df_01.columns\n",
        "\n",
        "new_df_01 = df_01.drop(['start_station_name', 'start_station_id', 'end_station_name',\n",
        "       'end_station_id', 'start_lat', 'start_lng', 'end_lat', 'end_lng'], axis = 1, inplace = False)\n",
        "new_df_01.shape"
      ]
    },
    {
      "cell_type": "code",
      "execution_count": null,
      "metadata": {
        "colab": {
          "base_uri": "https://localhost:8080/"
        },
        "id": "f9zEI8V0N24X",
        "outputId": "f6f662ea-f527-4c3f-b701-f07801b43f4c"
      },
      "outputs": [
        {
          "output_type": "execute_result",
          "data": {
            "text/plain": [
              "(75216, 5)"
            ]
          },
          "metadata": {},
          "execution_count": 11
        }
      ],
      "source": [
        "new_02_columns = [col[1:-1] for col in df_02.columns]\n",
        "df_02.columns = new_02_columns\n",
        "df_02.columns\n",
        "\n",
        "new_df_02 = df_02.drop(['start_station_name', 'start_station_id', 'end_station_name',\n",
        "       'end_station_id', 'start_lat', 'start_lng', 'end_lat', 'end_lng'], axis = 1, inplace = False)\n",
        "new_df_02.shape"
      ]
    },
    {
      "cell_type": "code",
      "execution_count": null,
      "metadata": {
        "colab": {
          "base_uri": "https://localhost:8080/"
        },
        "id": "FIY-yCG1N59n",
        "outputId": "9cb0c68f-3631-4684-dbfb-ea7341ab6e4f"
      },
      "outputs": [
        {
          "output_type": "execute_result",
          "data": {
            "text/plain": [
              "(61301, 5)"
            ]
          },
          "metadata": {},
          "execution_count": 12
        }
      ],
      "source": [
        "new_03_columns = [col[1:-1] for col in df_03.columns]\n",
        "df_03.columns = new_03_columns\n",
        "df_03.columns\n",
        "\n",
        "new_df_03 = df_03.drop(['start_station_name', 'start_station_id', 'end_station_name',\n",
        "       'end_station_id', 'start_lat', 'start_lng', 'end_lat', 'end_lng'], axis = 1, inplace = False)\n",
        "new_df_03.shape"
      ]
    },
    {
      "cell_type": "code",
      "execution_count": null,
      "metadata": {
        "colab": {
          "base_uri": "https://localhost:8080/"
        },
        "id": "a-HM08j0N8CD",
        "outputId": "c70ca837-af9e-4918-95de-9dcf0860a31f"
      },
      "outputs": [
        {
          "output_type": "execute_result",
          "data": {
            "text/plain": [
              "(49581, 5)"
            ]
          },
          "metadata": {},
          "execution_count": 13
        }
      ],
      "source": [
        "new_04_columns = [col[1:-1] for col in df_04.columns]\n",
        "df_04.columns = new_04_columns\n",
        "df_04.columns\n",
        "\n",
        "new_df_04 = df_04.drop(['start_station_name', 'start_station_id', 'end_station_name',\n",
        "       'end_station_id', 'start_lat', 'start_lng', 'end_lat', 'end_lng'], axis = 1, inplace = False)\n",
        "new_df_04.shape"
      ]
    },
    {
      "cell_type": "code",
      "execution_count": null,
      "metadata": {
        "colab": {
          "base_uri": "https://localhost:8080/"
        },
        "id": "vbtgOj7iOA2v",
        "outputId": "6b83b154-4d52-4ff9-dac8-27c8cbe2b2e6"
      },
      "outputs": [
        {
          "output_type": "execute_result",
          "data": {
            "text/plain": [
              "(40418, 5)"
            ]
          },
          "metadata": {},
          "execution_count": 14
        }
      ],
      "source": [
        "new_05_columns = [col[1:-1] for col in df_05.columns]\n",
        "df_05.columns = new_05_columns\n",
        "df_05.columns\n",
        "\n",
        "new_df_05 = df_05.drop(['start_station_name', 'start_station_id', 'end_station_name',\n",
        "       'end_station_id', 'start_lat', 'start_lng', 'end_lat', 'end_lng'], axis = 1, inplace = False)\n",
        "new_df_05.shape"
      ]
    },
    {
      "cell_type": "code",
      "execution_count": null,
      "metadata": {
        "colab": {
          "base_uri": "https://localhost:8080/"
        },
        "id": "GMVn9vu2SWfx",
        "outputId": "be718337-41d1-464e-bcc9-b41ab79dad5a"
      },
      "outputs": [
        {
          "output_type": "execute_result",
          "data": {
            "text/plain": [
              "(41045, 5)"
            ]
          },
          "metadata": {},
          "execution_count": 15
        }
      ],
      "source": [
        "new_06_columns = [col[1:-1] for col in df_06.columns]\n",
        "df_06.columns = new_06_columns\n",
        "df_06.columns\n",
        "\n",
        "new_df_06 = df_06.drop(['start_station_name', 'start_station_id', 'end_station_name',\n",
        "       'end_station_id', 'start_lat', 'start_lng', 'end_lat', 'end_lng'], axis = 1, inplace = False)\n",
        "new_df_06.shape"
      ]
    },
    {
      "cell_type": "code",
      "execution_count": null,
      "metadata": {
        "colab": {
          "base_uri": "https://localhost:8080/"
        },
        "id": "GZY_Us7QSYP8",
        "outputId": "6bb6e9fa-cddd-4ed9-aeb4-f63684e02a20"
      },
      "outputs": [
        {
          "output_type": "execute_result",
          "data": {
            "text/plain": [
              "(38800, 5)"
            ]
          },
          "metadata": {},
          "execution_count": 16
        }
      ],
      "source": [
        "new_07_columns = [col[1:-1] for col in df_07.columns]\n",
        "df_07.columns = new_07_columns\n",
        "df_07.columns\n",
        "\n",
        "new_df_07 = df_07.drop(['start_station_name', 'start_station_id', 'end_station_name',\n",
        "       'end_station_id', 'start_lat', 'start_lng', 'end_lat', 'end_lng'], axis = 1, inplace = False)\n",
        "new_df_07.shape"
      ]
    },
    {
      "cell_type": "markdown",
      "source": [
        "**2. Merging all the 12 months dataframes with only necessary columns**"
      ],
      "metadata": {
        "id": "7ic8p3FlV1hm"
      }
    },
    {
      "cell_type": "code",
      "source": [
        "frames = [new_df_08, new_df_09, new_df_10, new_df_11, new_df_12, new_df_01, new_df_02, new_df_03, new_df_04, new_df_05, new_df_06, new_df_07]\n",
        "past_12_months_df = pd.concat(frames)\n",
        "past_12_months_df"
      ],
      "metadata": {
        "colab": {
          "base_uri": "https://localhost:8080/",
          "height": 423
        },
        "id": "5M8Iya2vWASa",
        "outputId": "4113a20f-e37d-4451-807c-f1f5a56f6d72"
      },
      "execution_count": null,
      "outputs": [
        {
          "output_type": "execute_result",
          "data": {
            "text/plain": [
              "                  ride_id    rideable_type             started_at  \\\n",
              "0        550CF7EFEAE0C618    electric_bike    2022-08-07 21:34:15   \n",
              "1        DAD198F405F9C5F5    electric_bike    2022-08-08 14:39:21   \n",
              "2        E6F2BC47B65CB7FD    electric_bike    2022-08-08 15:29:50   \n",
              "3        F597830181C2E13C    electric_bike    2022-08-08 02:43:50   \n",
              "4        0CE689BB4E313E8D    electric_bike    2022-08-07 20:24:06   \n",
              "...                   ...              ...                    ...   \n",
              "38795  \"84B128BDA6EBB768\"  \"electric_bike\"  \"2023-07-19 21:03:14\"   \n",
              "38796  \"90516C49DDAC563E\"   \"classic_bike\"  \"2023-07-11 12:54:37\"   \n",
              "38797  \"50853DEDF35EA249\"  \"electric_bike\"  \"2023-07-27 08:15:20\"   \n",
              "38798  \"888E01EF6EBE85B6\"   \"classic_bike\"  \"2023-07-23 09:32:05\"   \n",
              "38799                   \"              NaN                    NaN   \n",
              "\n",
              "                    ended_at member_casual  \n",
              "0        2022-08-07 21:41:46        casual  \n",
              "1        2022-08-08 14:53:23        casual  \n",
              "2        2022-08-08 15:40:34        casual  \n",
              "3        2022-08-08 02:58:53        casual  \n",
              "4        2022-08-07 20:29:58        casual  \n",
              "...                      ...           ...  \n",
              "38795  \"2023-07-19 21:20:07\"      \"member\"  \n",
              "38796  \"2023-07-11 12:59:43\"      \"casual\"  \n",
              "38797  \"2023-07-27 08:20:48\"      \"casual\"  \n",
              "38798  \"2023-07-23 09:50:11\"      \"member\"  \n",
              "38799                    NaN           NaN  \n",
              "\n",
              "[662696 rows x 5 columns]"
            ],
            "text/html": [
              "\n",
              "  <div id=\"df-2c686eab-6d33-4ef2-b169-fd370a9efb63\" class=\"colab-df-container\">\n",
              "    <div>\n",
              "<style scoped>\n",
              "    .dataframe tbody tr th:only-of-type {\n",
              "        vertical-align: middle;\n",
              "    }\n",
              "\n",
              "    .dataframe tbody tr th {\n",
              "        vertical-align: top;\n",
              "    }\n",
              "\n",
              "    .dataframe thead th {\n",
              "        text-align: right;\n",
              "    }\n",
              "</style>\n",
              "<table border=\"1\" class=\"dataframe\">\n",
              "  <thead>\n",
              "    <tr style=\"text-align: right;\">\n",
              "      <th></th>\n",
              "      <th>ride_id</th>\n",
              "      <th>rideable_type</th>\n",
              "      <th>started_at</th>\n",
              "      <th>ended_at</th>\n",
              "      <th>member_casual</th>\n",
              "    </tr>\n",
              "  </thead>\n",
              "  <tbody>\n",
              "    <tr>\n",
              "      <th>0</th>\n",
              "      <td>550CF7EFEAE0C618</td>\n",
              "      <td>electric_bike</td>\n",
              "      <td>2022-08-07 21:34:15</td>\n",
              "      <td>2022-08-07 21:41:46</td>\n",
              "      <td>casual</td>\n",
              "    </tr>\n",
              "    <tr>\n",
              "      <th>1</th>\n",
              "      <td>DAD198F405F9C5F5</td>\n",
              "      <td>electric_bike</td>\n",
              "      <td>2022-08-08 14:39:21</td>\n",
              "      <td>2022-08-08 14:53:23</td>\n",
              "      <td>casual</td>\n",
              "    </tr>\n",
              "    <tr>\n",
              "      <th>2</th>\n",
              "      <td>E6F2BC47B65CB7FD</td>\n",
              "      <td>electric_bike</td>\n",
              "      <td>2022-08-08 15:29:50</td>\n",
              "      <td>2022-08-08 15:40:34</td>\n",
              "      <td>casual</td>\n",
              "    </tr>\n",
              "    <tr>\n",
              "      <th>3</th>\n",
              "      <td>F597830181C2E13C</td>\n",
              "      <td>electric_bike</td>\n",
              "      <td>2022-08-08 02:43:50</td>\n",
              "      <td>2022-08-08 02:58:53</td>\n",
              "      <td>casual</td>\n",
              "    </tr>\n",
              "    <tr>\n",
              "      <th>4</th>\n",
              "      <td>0CE689BB4E313E8D</td>\n",
              "      <td>electric_bike</td>\n",
              "      <td>2022-08-07 20:24:06</td>\n",
              "      <td>2022-08-07 20:29:58</td>\n",
              "      <td>casual</td>\n",
              "    </tr>\n",
              "    <tr>\n",
              "      <th>...</th>\n",
              "      <td>...</td>\n",
              "      <td>...</td>\n",
              "      <td>...</td>\n",
              "      <td>...</td>\n",
              "      <td>...</td>\n",
              "    </tr>\n",
              "    <tr>\n",
              "      <th>38795</th>\n",
              "      <td>\"84B128BDA6EBB768\"</td>\n",
              "      <td>\"electric_bike\"</td>\n",
              "      <td>\"2023-07-19 21:03:14\"</td>\n",
              "      <td>\"2023-07-19 21:20:07\"</td>\n",
              "      <td>\"member\"</td>\n",
              "    </tr>\n",
              "    <tr>\n",
              "      <th>38796</th>\n",
              "      <td>\"90516C49DDAC563E\"</td>\n",
              "      <td>\"classic_bike\"</td>\n",
              "      <td>\"2023-07-11 12:54:37\"</td>\n",
              "      <td>\"2023-07-11 12:59:43\"</td>\n",
              "      <td>\"casual\"</td>\n",
              "    </tr>\n",
              "    <tr>\n",
              "      <th>38797</th>\n",
              "      <td>\"50853DEDF35EA249\"</td>\n",
              "      <td>\"electric_bike\"</td>\n",
              "      <td>\"2023-07-27 08:15:20\"</td>\n",
              "      <td>\"2023-07-27 08:20:48\"</td>\n",
              "      <td>\"casual\"</td>\n",
              "    </tr>\n",
              "    <tr>\n",
              "      <th>38798</th>\n",
              "      <td>\"888E01EF6EBE85B6\"</td>\n",
              "      <td>\"classic_bike\"</td>\n",
              "      <td>\"2023-07-23 09:32:05\"</td>\n",
              "      <td>\"2023-07-23 09:50:11\"</td>\n",
              "      <td>\"member\"</td>\n",
              "    </tr>\n",
              "    <tr>\n",
              "      <th>38799</th>\n",
              "      <td>\"</td>\n",
              "      <td>NaN</td>\n",
              "      <td>NaN</td>\n",
              "      <td>NaN</td>\n",
              "      <td>NaN</td>\n",
              "    </tr>\n",
              "  </tbody>\n",
              "</table>\n",
              "<p>662696 rows × 5 columns</p>\n",
              "</div>\n",
              "    <div class=\"colab-df-buttons\">\n",
              "\n",
              "  <div class=\"colab-df-container\">\n",
              "    <button class=\"colab-df-convert\" onclick=\"convertToInteractive('df-2c686eab-6d33-4ef2-b169-fd370a9efb63')\"\n",
              "            title=\"Convert this dataframe to an interactive table.\"\n",
              "            style=\"display:none;\">\n",
              "\n",
              "  <svg xmlns=\"http://www.w3.org/2000/svg\" height=\"24px\" viewBox=\"0 -960 960 960\">\n",
              "    <path d=\"M120-120v-720h720v720H120Zm60-500h600v-160H180v160Zm220 220h160v-160H400v160Zm0 220h160v-160H400v160ZM180-400h160v-160H180v160Zm440 0h160v-160H620v160ZM180-180h160v-160H180v160Zm440 0h160v-160H620v160Z\"/>\n",
              "  </svg>\n",
              "    </button>\n",
              "\n",
              "  <style>\n",
              "    .colab-df-container {\n",
              "      display:flex;\n",
              "      gap: 12px;\n",
              "    }\n",
              "\n",
              "    .colab-df-convert {\n",
              "      background-color: #E8F0FE;\n",
              "      border: none;\n",
              "      border-radius: 50%;\n",
              "      cursor: pointer;\n",
              "      display: none;\n",
              "      fill: #1967D2;\n",
              "      height: 32px;\n",
              "      padding: 0 0 0 0;\n",
              "      width: 32px;\n",
              "    }\n",
              "\n",
              "    .colab-df-convert:hover {\n",
              "      background-color: #E2EBFA;\n",
              "      box-shadow: 0px 1px 2px rgba(60, 64, 67, 0.3), 0px 1px 3px 1px rgba(60, 64, 67, 0.15);\n",
              "      fill: #174EA6;\n",
              "    }\n",
              "\n",
              "    .colab-df-buttons div {\n",
              "      margin-bottom: 4px;\n",
              "    }\n",
              "\n",
              "    [theme=dark] .colab-df-convert {\n",
              "      background-color: #3B4455;\n",
              "      fill: #D2E3FC;\n",
              "    }\n",
              "\n",
              "    [theme=dark] .colab-df-convert:hover {\n",
              "      background-color: #434B5C;\n",
              "      box-shadow: 0px 1px 3px 1px rgba(0, 0, 0, 0.15);\n",
              "      filter: drop-shadow(0px 1px 2px rgba(0, 0, 0, 0.3));\n",
              "      fill: #FFFFFF;\n",
              "    }\n",
              "  </style>\n",
              "\n",
              "    <script>\n",
              "      const buttonEl =\n",
              "        document.querySelector('#df-2c686eab-6d33-4ef2-b169-fd370a9efb63 button.colab-df-convert');\n",
              "      buttonEl.style.display =\n",
              "        google.colab.kernel.accessAllowed ? 'block' : 'none';\n",
              "\n",
              "      async function convertToInteractive(key) {\n",
              "        const element = document.querySelector('#df-2c686eab-6d33-4ef2-b169-fd370a9efb63');\n",
              "        const dataTable =\n",
              "          await google.colab.kernel.invokeFunction('convertToInteractive',\n",
              "                                                    [key], {});\n",
              "        if (!dataTable) return;\n",
              "\n",
              "        const docLinkHtml = 'Like what you see? Visit the ' +\n",
              "          '<a target=\"_blank\" href=https://colab.research.google.com/notebooks/data_table.ipynb>data table notebook</a>'\n",
              "          + ' to learn more about interactive tables.';\n",
              "        element.innerHTML = '';\n",
              "        dataTable['output_type'] = 'display_data';\n",
              "        await google.colab.output.renderOutput(dataTable, element);\n",
              "        const docLink = document.createElement('div');\n",
              "        docLink.innerHTML = docLinkHtml;\n",
              "        element.appendChild(docLink);\n",
              "      }\n",
              "    </script>\n",
              "  </div>\n",
              "\n",
              "\n",
              "<div id=\"df-c5089e2e-0bdf-4ddc-a202-e4f4b63019a3\">\n",
              "  <button class=\"colab-df-quickchart\" onclick=\"quickchart('df-c5089e2e-0bdf-4ddc-a202-e4f4b63019a3')\"\n",
              "            title=\"Suggest charts.\"\n",
              "            style=\"display:none;\">\n",
              "\n",
              "<svg xmlns=\"http://www.w3.org/2000/svg\" height=\"24px\"viewBox=\"0 0 24 24\"\n",
              "     width=\"24px\">\n",
              "    <g>\n",
              "        <path d=\"M19 3H5c-1.1 0-2 .9-2 2v14c0 1.1.9 2 2 2h14c1.1 0 2-.9 2-2V5c0-1.1-.9-2-2-2zM9 17H7v-7h2v7zm4 0h-2V7h2v10zm4 0h-2v-4h2v4z\"/>\n",
              "    </g>\n",
              "</svg>\n",
              "  </button>\n",
              "\n",
              "<style>\n",
              "  .colab-df-quickchart {\n",
              "    background-color: #E8F0FE;\n",
              "    border: none;\n",
              "    border-radius: 50%;\n",
              "    cursor: pointer;\n",
              "    display: none;\n",
              "    fill: #1967D2;\n",
              "    height: 32px;\n",
              "    padding: 0 0 0 0;\n",
              "    width: 32px;\n",
              "  }\n",
              "\n",
              "  .colab-df-quickchart:hover {\n",
              "    background-color: #E2EBFA;\n",
              "    box-shadow: 0px 1px 2px rgba(60, 64, 67, 0.3), 0px 1px 3px 1px rgba(60, 64, 67, 0.15);\n",
              "    fill: #174EA6;\n",
              "  }\n",
              "\n",
              "  [theme=dark] .colab-df-quickchart {\n",
              "    background-color: #3B4455;\n",
              "    fill: #D2E3FC;\n",
              "  }\n",
              "\n",
              "  [theme=dark] .colab-df-quickchart:hover {\n",
              "    background-color: #434B5C;\n",
              "    box-shadow: 0px 1px 3px 1px rgba(0, 0, 0, 0.15);\n",
              "    filter: drop-shadow(0px 1px 2px rgba(0, 0, 0, 0.3));\n",
              "    fill: #FFFFFF;\n",
              "  }\n",
              "</style>\n",
              "\n",
              "  <script>\n",
              "    async function quickchart(key) {\n",
              "      const charts = await google.colab.kernel.invokeFunction(\n",
              "          'suggestCharts', [key], {});\n",
              "    }\n",
              "    (() => {\n",
              "      let quickchartButtonEl =\n",
              "        document.querySelector('#df-c5089e2e-0bdf-4ddc-a202-e4f4b63019a3 button');\n",
              "      quickchartButtonEl.style.display =\n",
              "        google.colab.kernel.accessAllowed ? 'block' : 'none';\n",
              "    })();\n",
              "  </script>\n",
              "</div>\n",
              "    </div>\n",
              "  </div>\n"
            ]
          },
          "metadata": {},
          "execution_count": 17
        }
      ]
    },
    {
      "cell_type": "code",
      "source": [
        "# past_12_months_df.isna().values.any() #True\n",
        "cleaned_past_12_df = past_12_months_df.dropna()\n",
        "cleaned_past_12_df.shape"
      ],
      "metadata": {
        "colab": {
          "base_uri": "https://localhost:8080/"
        },
        "id": "UPZlnJ_oWvRr",
        "outputId": "ccddd017-ab0c-4f9b-b5ca-131c312cc513"
      },
      "execution_count": null,
      "outputs": [
        {
          "output_type": "execute_result",
          "data": {
            "text/plain": [
              "(662685, 5)"
            ]
          },
          "metadata": {},
          "execution_count": 18
        }
      ]
    },
    {
      "cell_type": "code",
      "source": [
        "cleaned_past_12_df.ride_id = cleaned_past_12_df.ride_id.str.replace('\"', '')\n",
        "cleaned_past_12_df.ride_id\n",
        "# len(cleaned_past_12_df.ride_id.unique()) # The id for all rows are unique"
      ],
      "metadata": {
        "colab": {
          "base_uri": "https://localhost:8080/"
        },
        "id": "3OUWe2HLZViA",
        "outputId": "94c4d905-64df-4fd3-c110-5cdef5020897"
      },
      "execution_count": null,
      "outputs": [
        {
          "output_type": "execute_result",
          "data": {
            "text/plain": [
              "662685"
            ]
          },
          "metadata": {},
          "execution_count": 24
        }
      ]
    },
    {
      "cell_type": "code",
      "source": [
        "cleaned_past_12_df.rideable_type = cleaned_past_12_df.rideable_type.str.replace('\"', '')\n",
        "cleaned_past_12_df.rideable_type"
      ],
      "metadata": {
        "colab": {
          "base_uri": "https://localhost:8080/"
        },
        "id": "BYUKJ6CFbKhf",
        "outputId": "2b3c2eed-4622-4239-9988-314a56fed41d"
      },
      "execution_count": null,
      "outputs": [
        {
          "output_type": "stream",
          "name": "stderr",
          "text": [
            "<ipython-input-20-57fd9b76bd3f>:1: SettingWithCopyWarning: \n",
            "A value is trying to be set on a copy of a slice from a DataFrame.\n",
            "Try using .loc[row_indexer,col_indexer] = value instead\n",
            "\n",
            "See the caveats in the documentation: https://pandas.pydata.org/pandas-docs/stable/user_guide/indexing.html#returning-a-view-versus-a-copy\n",
            "  cleaned_past_12_df.rideable_type = cleaned_past_12_df.rideable_type.str.replace('\"', '')\n"
          ]
        },
        {
          "output_type": "execute_result",
          "data": {
            "text/plain": [
              "0        electric_bike\n",
              "1        electric_bike\n",
              "2        electric_bike\n",
              "3        electric_bike\n",
              "4        electric_bike\n",
              "             ...      \n",
              "38794    electric_bike\n",
              "38795    electric_bike\n",
              "38796     classic_bike\n",
              "38797    electric_bike\n",
              "38798     classic_bike\n",
              "Name: rideable_type, Length: 662685, dtype: object"
            ]
          },
          "metadata": {},
          "execution_count": 20
        }
      ]
    },
    {
      "cell_type": "code",
      "source": [
        "cleaned_past_12_df.started_at = cleaned_past_12_df.started_at.str.replace('\"', '')\n",
        "cleaned_past_12_df.started_at"
      ],
      "metadata": {
        "colab": {
          "base_uri": "https://localhost:8080/"
        },
        "id": "nL2FKSaPbTmC",
        "outputId": "b1e49cc4-c321-4250-c3fd-698a95e9c777"
      },
      "execution_count": null,
      "outputs": [
        {
          "output_type": "stream",
          "name": "stderr",
          "text": [
            "<ipython-input-21-be2ae6db6685>:1: SettingWithCopyWarning: \n",
            "A value is trying to be set on a copy of a slice from a DataFrame.\n",
            "Try using .loc[row_indexer,col_indexer] = value instead\n",
            "\n",
            "See the caveats in the documentation: https://pandas.pydata.org/pandas-docs/stable/user_guide/indexing.html#returning-a-view-versus-a-copy\n",
            "  cleaned_past_12_df.started_at = cleaned_past_12_df.started_at.str.replace('\"', '')\n"
          ]
        },
        {
          "output_type": "execute_result",
          "data": {
            "text/plain": [
              "0        2022-08-07 21:34:15\n",
              "1        2022-08-08 14:39:21\n",
              "2        2022-08-08 15:29:50\n",
              "3        2022-08-08 02:43:50\n",
              "4        2022-08-07 20:24:06\n",
              "                ...         \n",
              "38794    2023-07-18 07:52:34\n",
              "38795    2023-07-19 21:03:14\n",
              "38796    2023-07-11 12:54:37\n",
              "38797    2023-07-27 08:15:20\n",
              "38798    2023-07-23 09:32:05\n",
              "Name: started_at, Length: 662685, dtype: object"
            ]
          },
          "metadata": {},
          "execution_count": 21
        }
      ]
    },
    {
      "cell_type": "code",
      "source": [
        "cleaned_past_12_df.ended_at = cleaned_past_12_df.ended_at.str.replace('\"', '')\n",
        "cleaned_past_12_df.ended_at"
      ],
      "metadata": {
        "colab": {
          "base_uri": "https://localhost:8080/"
        },
        "id": "mCr_LwsWbgAe",
        "outputId": "40d43a08-6aa7-4c44-926f-6ae3689f4df6"
      },
      "execution_count": null,
      "outputs": [
        {
          "output_type": "stream",
          "name": "stderr",
          "text": [
            "<ipython-input-22-6195501de419>:1: SettingWithCopyWarning: \n",
            "A value is trying to be set on a copy of a slice from a DataFrame.\n",
            "Try using .loc[row_indexer,col_indexer] = value instead\n",
            "\n",
            "See the caveats in the documentation: https://pandas.pydata.org/pandas-docs/stable/user_guide/indexing.html#returning-a-view-versus-a-copy\n",
            "  cleaned_past_12_df.ended_at = cleaned_past_12_df.ended_at.str.replace('\"', '')\n"
          ]
        },
        {
          "output_type": "execute_result",
          "data": {
            "text/plain": [
              "0        2022-08-07 21:41:46\n",
              "1        2022-08-08 14:53:23\n",
              "2        2022-08-08 15:40:34\n",
              "3        2022-08-08 02:58:53\n",
              "4        2022-08-07 20:29:58\n",
              "                ...         \n",
              "38794    2023-07-18 08:01:47\n",
              "38795    2023-07-19 21:20:07\n",
              "38796    2023-07-11 12:59:43\n",
              "38797    2023-07-27 08:20:48\n",
              "38798    2023-07-23 09:50:11\n",
              "Name: ended_at, Length: 662685, dtype: object"
            ]
          },
          "metadata": {},
          "execution_count": 22
        }
      ]
    },
    {
      "cell_type": "code",
      "source": [
        "cleaned_past_12_df.member_casual = cleaned_past_12_df.member_casual.str.replace('\"', '')\n",
        "cleaned_past_12_df.member_casual"
      ],
      "metadata": {
        "colab": {
          "base_uri": "https://localhost:8080/"
        },
        "id": "d-LS6oaRbqeR",
        "outputId": "aa609402-11cf-41d3-8443-5eecfd45a14d"
      },
      "execution_count": null,
      "outputs": [
        {
          "output_type": "stream",
          "name": "stderr",
          "text": [
            "<ipython-input-23-530d986d836b>:1: SettingWithCopyWarning: \n",
            "A value is trying to be set on a copy of a slice from a DataFrame.\n",
            "Try using .loc[row_indexer,col_indexer] = value instead\n",
            "\n",
            "See the caveats in the documentation: https://pandas.pydata.org/pandas-docs/stable/user_guide/indexing.html#returning-a-view-versus-a-copy\n",
            "  cleaned_past_12_df.member_casual = cleaned_past_12_df.member_casual.str.replace('\"', '')\n"
          ]
        },
        {
          "output_type": "execute_result",
          "data": {
            "text/plain": [
              "0        casual\n",
              "1        casual\n",
              "2        casual\n",
              "3        casual\n",
              "4        casual\n",
              "          ...  \n",
              "38794    member\n",
              "38795    member\n",
              "38796    casual\n",
              "38797    casual\n",
              "38798    member\n",
              "Name: member_casual, Length: 662685, dtype: object"
            ]
          },
          "metadata": {},
          "execution_count": 23
        }
      ]
    },
    {
      "cell_type": "markdown",
      "source": [
        "**3. Explore cleaned_past_12_df**"
      ],
      "metadata": {
        "id": "mTkAIFdqZZay"
      }
    },
    {
      "cell_type": "code",
      "source": [
        "cleaned_past_12_df.ride_id.dtype # Object\n",
        "cleaned_past_12_df.rideable_type.dtype # Object\n",
        "cleaned_past_12_df.started_at.dtype # Object\n",
        "cleaned_past_12_df.ended_at.dtype # Object\n",
        "cleaned_past_12_df.member_casual.dtype# Object"
      ],
      "metadata": {
        "colab": {
          "base_uri": "https://localhost:8080/"
        },
        "id": "jo-8zUo7Ziq2",
        "outputId": "fcc3ab1b-1e28-4948-b787-2cafa8a0480f"
      },
      "execution_count": null,
      "outputs": [
        {
          "output_type": "execute_result",
          "data": {
            "text/plain": [
              "dtype('O')"
            ]
          },
          "metadata": {},
          "execution_count": 31
        }
      ]
    },
    {
      "cell_type": "code",
      "source": [
        "# Change the data types of started_at and ended_at columns from object to datetime64[ns]\n",
        "cleaned_past_12_df['started_at'] = pd.to_datetime(cleaned_past_12_df.started_at)\n",
        "cleaned_past_12_df['ended_at'] = pd.to_datetime(cleaned_past_12_df.ended_at)\n",
        "\n",
        "cleaned_past_12_df.started_at.dtype # datetime64[ns]\n",
        "cleaned_past_12_df.ended_at.dtype # datetime64[ns]\n"
      ],
      "metadata": {
        "colab": {
          "base_uri": "https://localhost:8080/"
        },
        "id": "mPOmW30OabRQ",
        "outputId": "adc6c20b-2b69-40af-a91b-262cfa0038f2"
      },
      "execution_count": null,
      "outputs": [
        {
          "output_type": "execute_result",
          "data": {
            "text/plain": [
              "dtype('<M8[ns]')"
            ]
          },
          "metadata": {},
          "execution_count": 47
        }
      ]
    },
    {
      "cell_type": "code",
      "source": [
        "# cleaned_past_12_df['ride_length'] = (cleaned_past_12_df.ended_at - cleaned_past_12_df.started_at) / pd.Timedelta(minutes=1)\n",
        "\n",
        "# Check how many rows have 0 in 'ride_length' column\n",
        "len(cleaned_past_12_df[(cleaned_past_12_df['ride_length'] == 0)]) #50\n",
        "\n",
        "# Assume that 0 of 'ride_length' means that the users decided not to ride after they register to use\n",
        "# Drop rows with 0 in 'ride_length' column\n",
        "cleaned_past_12_df = cleaned_past_12_df[(cleaned_past_12_df['ride_length'] != 0)] #662635 rows (original: 662685 rows)\n",
        "\n",
        "# Check how many rows have values less than 0 in 'ride_length' column\n",
        "# len(cleaned_past_12_df[(cleaned_past_12_df['ride_length'] < 0)]) #8\n",
        "cleaned_past_12_df[(cleaned_past_12_df['ride_length'] < 0)]\n",
        "\n",
        "# It seems the negative values are caused by the reversed values of 'started_at' and 'ended_at'\n",
        "# Modify the negative values to positive values\n",
        "cleaned_past_12_df['ride_length'] = cleaned_past_12_df['ride_length'].apply(lambda x: -1 * x if x < 0 else x)\n",
        "\n",
        "# Sort cleaned_past_12_df by 'ride_length' column\n",
        "cleaned_past_12_df = cleaned_past_12_df.sort_values(by=['ride_length'])\n",
        "# cleaned_past_12_df\n"
      ],
      "metadata": {
        "colab": {
          "base_uri": "https://localhost:8080/",
          "height": 423
        },
        "id": "HQLF20MFdB1I",
        "outputId": "8a50d25b-b8b8-440d-fea6-f0da395dbba9"
      },
      "execution_count": null,
      "outputs": [
        {
          "output_type": "execute_result",
          "data": {
            "text/plain": [
              "                ride_id  rideable_type          started_at  \\\n",
              "17421  6A6427B4EF5C3EAE  electric_bike 2022-10-02 18:37:37   \n",
              "7421   9CC9C2E2D68F6509  electric_bike 2023-05-31 23:23:27   \n",
              "32382  B0EA325C7E714F9A   classic_bike 2022-12-18 11:38:33   \n",
              "17098  F59F262867976C7C  electric_bike 2022-08-03 11:10:25   \n",
              "29581  4E15060F4920A8D7  electric_bike 2022-11-21 19:21:07   \n",
              "...                 ...            ...                 ...   \n",
              "37634  F5F074FB092219CD    docked_bike 2022-12-02 21:41:11   \n",
              "10882  DFD2D8549F460DB5    docked_bike 2022-09-17 19:46:33   \n",
              "28812  C1C12A2351E93FC4    docked_bike 2022-09-17 10:19:23   \n",
              "13885  B554C12730AFA9C3    docked_bike 2023-05-14 14:33:37   \n",
              "6839   38A41BB0F2B8F37C    docked_bike 2023-05-05 21:53:14   \n",
              "\n",
              "                 ended_at member_casual  ride_length  \n",
              "17421 2022-10-02 18:37:38        member         0.02  \n",
              "7421  2023-05-31 23:23:28        casual         0.02  \n",
              "32382 2022-12-18 11:38:34        member         0.02  \n",
              "17098 2022-08-03 11:10:26        casual         0.02  \n",
              "29581 2022-11-21 19:21:08        member         0.02  \n",
              "...                   ...           ...          ...  \n",
              "37634 2022-12-16 04:58:17        casual    19,157.10  \n",
              "10882 2022-10-01 18:51:47        casual    20,105.23  \n",
              "28812 2022-10-01 18:34:29        casual    20,655.10  \n",
              "13885 2023-05-30 04:50:43        casual    22,457.10  \n",
              "6839  2023-05-26 04:43:45        casual    29,210.52  \n",
              "\n",
              "[662635 rows x 6 columns]"
            ],
            "text/html": [
              "\n",
              "  <div id=\"df-c45ac47f-f97f-47a0-a050-2bc827981057\" class=\"colab-df-container\">\n",
              "    <div>\n",
              "<style scoped>\n",
              "    .dataframe tbody tr th:only-of-type {\n",
              "        vertical-align: middle;\n",
              "    }\n",
              "\n",
              "    .dataframe tbody tr th {\n",
              "        vertical-align: top;\n",
              "    }\n",
              "\n",
              "    .dataframe thead th {\n",
              "        text-align: right;\n",
              "    }\n",
              "</style>\n",
              "<table border=\"1\" class=\"dataframe\">\n",
              "  <thead>\n",
              "    <tr style=\"text-align: right;\">\n",
              "      <th></th>\n",
              "      <th>ride_id</th>\n",
              "      <th>rideable_type</th>\n",
              "      <th>started_at</th>\n",
              "      <th>ended_at</th>\n",
              "      <th>member_casual</th>\n",
              "      <th>ride_length</th>\n",
              "    </tr>\n",
              "  </thead>\n",
              "  <tbody>\n",
              "    <tr>\n",
              "      <th>17421</th>\n",
              "      <td>6A6427B4EF5C3EAE</td>\n",
              "      <td>electric_bike</td>\n",
              "      <td>2022-10-02 18:37:37</td>\n",
              "      <td>2022-10-02 18:37:38</td>\n",
              "      <td>member</td>\n",
              "      <td>0.02</td>\n",
              "    </tr>\n",
              "    <tr>\n",
              "      <th>7421</th>\n",
              "      <td>9CC9C2E2D68F6509</td>\n",
              "      <td>electric_bike</td>\n",
              "      <td>2023-05-31 23:23:27</td>\n",
              "      <td>2023-05-31 23:23:28</td>\n",
              "      <td>casual</td>\n",
              "      <td>0.02</td>\n",
              "    </tr>\n",
              "    <tr>\n",
              "      <th>32382</th>\n",
              "      <td>B0EA325C7E714F9A</td>\n",
              "      <td>classic_bike</td>\n",
              "      <td>2022-12-18 11:38:33</td>\n",
              "      <td>2022-12-18 11:38:34</td>\n",
              "      <td>member</td>\n",
              "      <td>0.02</td>\n",
              "    </tr>\n",
              "    <tr>\n",
              "      <th>17098</th>\n",
              "      <td>F59F262867976C7C</td>\n",
              "      <td>electric_bike</td>\n",
              "      <td>2022-08-03 11:10:25</td>\n",
              "      <td>2022-08-03 11:10:26</td>\n",
              "      <td>casual</td>\n",
              "      <td>0.02</td>\n",
              "    </tr>\n",
              "    <tr>\n",
              "      <th>29581</th>\n",
              "      <td>4E15060F4920A8D7</td>\n",
              "      <td>electric_bike</td>\n",
              "      <td>2022-11-21 19:21:07</td>\n",
              "      <td>2022-11-21 19:21:08</td>\n",
              "      <td>member</td>\n",
              "      <td>0.02</td>\n",
              "    </tr>\n",
              "    <tr>\n",
              "      <th>...</th>\n",
              "      <td>...</td>\n",
              "      <td>...</td>\n",
              "      <td>...</td>\n",
              "      <td>...</td>\n",
              "      <td>...</td>\n",
              "      <td>...</td>\n",
              "    </tr>\n",
              "    <tr>\n",
              "      <th>37634</th>\n",
              "      <td>F5F074FB092219CD</td>\n",
              "      <td>docked_bike</td>\n",
              "      <td>2022-12-02 21:41:11</td>\n",
              "      <td>2022-12-16 04:58:17</td>\n",
              "      <td>casual</td>\n",
              "      <td>19,157.10</td>\n",
              "    </tr>\n",
              "    <tr>\n",
              "      <th>10882</th>\n",
              "      <td>DFD2D8549F460DB5</td>\n",
              "      <td>docked_bike</td>\n",
              "      <td>2022-09-17 19:46:33</td>\n",
              "      <td>2022-10-01 18:51:47</td>\n",
              "      <td>casual</td>\n",
              "      <td>20,105.23</td>\n",
              "    </tr>\n",
              "    <tr>\n",
              "      <th>28812</th>\n",
              "      <td>C1C12A2351E93FC4</td>\n",
              "      <td>docked_bike</td>\n",
              "      <td>2022-09-17 10:19:23</td>\n",
              "      <td>2022-10-01 18:34:29</td>\n",
              "      <td>casual</td>\n",
              "      <td>20,655.10</td>\n",
              "    </tr>\n",
              "    <tr>\n",
              "      <th>13885</th>\n",
              "      <td>B554C12730AFA9C3</td>\n",
              "      <td>docked_bike</td>\n",
              "      <td>2023-05-14 14:33:37</td>\n",
              "      <td>2023-05-30 04:50:43</td>\n",
              "      <td>casual</td>\n",
              "      <td>22,457.10</td>\n",
              "    </tr>\n",
              "    <tr>\n",
              "      <th>6839</th>\n",
              "      <td>38A41BB0F2B8F37C</td>\n",
              "      <td>docked_bike</td>\n",
              "      <td>2023-05-05 21:53:14</td>\n",
              "      <td>2023-05-26 04:43:45</td>\n",
              "      <td>casual</td>\n",
              "      <td>29,210.52</td>\n",
              "    </tr>\n",
              "  </tbody>\n",
              "</table>\n",
              "<p>662635 rows × 6 columns</p>\n",
              "</div>\n",
              "    <div class=\"colab-df-buttons\">\n",
              "\n",
              "  <div class=\"colab-df-container\">\n",
              "    <button class=\"colab-df-convert\" onclick=\"convertToInteractive('df-c45ac47f-f97f-47a0-a050-2bc827981057')\"\n",
              "            title=\"Convert this dataframe to an interactive table.\"\n",
              "            style=\"display:none;\">\n",
              "\n",
              "  <svg xmlns=\"http://www.w3.org/2000/svg\" height=\"24px\" viewBox=\"0 -960 960 960\">\n",
              "    <path d=\"M120-120v-720h720v720H120Zm60-500h600v-160H180v160Zm220 220h160v-160H400v160Zm0 220h160v-160H400v160ZM180-400h160v-160H180v160Zm440 0h160v-160H620v160ZM180-180h160v-160H180v160Zm440 0h160v-160H620v160Z\"/>\n",
              "  </svg>\n",
              "    </button>\n",
              "\n",
              "  <style>\n",
              "    .colab-df-container {\n",
              "      display:flex;\n",
              "      gap: 12px;\n",
              "    }\n",
              "\n",
              "    .colab-df-convert {\n",
              "      background-color: #E8F0FE;\n",
              "      border: none;\n",
              "      border-radius: 50%;\n",
              "      cursor: pointer;\n",
              "      display: none;\n",
              "      fill: #1967D2;\n",
              "      height: 32px;\n",
              "      padding: 0 0 0 0;\n",
              "      width: 32px;\n",
              "    }\n",
              "\n",
              "    .colab-df-convert:hover {\n",
              "      background-color: #E2EBFA;\n",
              "      box-shadow: 0px 1px 2px rgba(60, 64, 67, 0.3), 0px 1px 3px 1px rgba(60, 64, 67, 0.15);\n",
              "      fill: #174EA6;\n",
              "    }\n",
              "\n",
              "    .colab-df-buttons div {\n",
              "      margin-bottom: 4px;\n",
              "    }\n",
              "\n",
              "    [theme=dark] .colab-df-convert {\n",
              "      background-color: #3B4455;\n",
              "      fill: #D2E3FC;\n",
              "    }\n",
              "\n",
              "    [theme=dark] .colab-df-convert:hover {\n",
              "      background-color: #434B5C;\n",
              "      box-shadow: 0px 1px 3px 1px rgba(0, 0, 0, 0.15);\n",
              "      filter: drop-shadow(0px 1px 2px rgba(0, 0, 0, 0.3));\n",
              "      fill: #FFFFFF;\n",
              "    }\n",
              "  </style>\n",
              "\n",
              "    <script>\n",
              "      const buttonEl =\n",
              "        document.querySelector('#df-c45ac47f-f97f-47a0-a050-2bc827981057 button.colab-df-convert');\n",
              "      buttonEl.style.display =\n",
              "        google.colab.kernel.accessAllowed ? 'block' : 'none';\n",
              "\n",
              "      async function convertToInteractive(key) {\n",
              "        const element = document.querySelector('#df-c45ac47f-f97f-47a0-a050-2bc827981057');\n",
              "        const dataTable =\n",
              "          await google.colab.kernel.invokeFunction('convertToInteractive',\n",
              "                                                    [key], {});\n",
              "        if (!dataTable) return;\n",
              "\n",
              "        const docLinkHtml = 'Like what you see? Visit the ' +\n",
              "          '<a target=\"_blank\" href=https://colab.research.google.com/notebooks/data_table.ipynb>data table notebook</a>'\n",
              "          + ' to learn more about interactive tables.';\n",
              "        element.innerHTML = '';\n",
              "        dataTable['output_type'] = 'display_data';\n",
              "        await google.colab.output.renderOutput(dataTable, element);\n",
              "        const docLink = document.createElement('div');\n",
              "        docLink.innerHTML = docLinkHtml;\n",
              "        element.appendChild(docLink);\n",
              "      }\n",
              "    </script>\n",
              "  </div>\n",
              "\n",
              "\n",
              "<div id=\"df-33564510-88e3-449b-a548-e7f755c031e4\">\n",
              "  <button class=\"colab-df-quickchart\" onclick=\"quickchart('df-33564510-88e3-449b-a548-e7f755c031e4')\"\n",
              "            title=\"Suggest charts.\"\n",
              "            style=\"display:none;\">\n",
              "\n",
              "<svg xmlns=\"http://www.w3.org/2000/svg\" height=\"24px\"viewBox=\"0 0 24 24\"\n",
              "     width=\"24px\">\n",
              "    <g>\n",
              "        <path d=\"M19 3H5c-1.1 0-2 .9-2 2v14c0 1.1.9 2 2 2h14c1.1 0 2-.9 2-2V5c0-1.1-.9-2-2-2zM9 17H7v-7h2v7zm4 0h-2V7h2v10zm4 0h-2v-4h2v4z\"/>\n",
              "    </g>\n",
              "</svg>\n",
              "  </button>\n",
              "\n",
              "<style>\n",
              "  .colab-df-quickchart {\n",
              "    background-color: #E8F0FE;\n",
              "    border: none;\n",
              "    border-radius: 50%;\n",
              "    cursor: pointer;\n",
              "    display: none;\n",
              "    fill: #1967D2;\n",
              "    height: 32px;\n",
              "    padding: 0 0 0 0;\n",
              "    width: 32px;\n",
              "  }\n",
              "\n",
              "  .colab-df-quickchart:hover {\n",
              "    background-color: #E2EBFA;\n",
              "    box-shadow: 0px 1px 2px rgba(60, 64, 67, 0.3), 0px 1px 3px 1px rgba(60, 64, 67, 0.15);\n",
              "    fill: #174EA6;\n",
              "  }\n",
              "\n",
              "  [theme=dark] .colab-df-quickchart {\n",
              "    background-color: #3B4455;\n",
              "    fill: #D2E3FC;\n",
              "  }\n",
              "\n",
              "  [theme=dark] .colab-df-quickchart:hover {\n",
              "    background-color: #434B5C;\n",
              "    box-shadow: 0px 1px 3px 1px rgba(0, 0, 0, 0.15);\n",
              "    filter: drop-shadow(0px 1px 2px rgba(0, 0, 0, 0.3));\n",
              "    fill: #FFFFFF;\n",
              "  }\n",
              "</style>\n",
              "\n",
              "  <script>\n",
              "    async function quickchart(key) {\n",
              "      const charts = await google.colab.kernel.invokeFunction(\n",
              "          'suggestCharts', [key], {});\n",
              "    }\n",
              "    (() => {\n",
              "      let quickchartButtonEl =\n",
              "        document.querySelector('#df-33564510-88e3-449b-a548-e7f755c031e4 button');\n",
              "      quickchartButtonEl.style.display =\n",
              "        google.colab.kernel.accessAllowed ? 'block' : 'none';\n",
              "    })();\n",
              "  </script>\n",
              "</div>\n",
              "    </div>\n",
              "  </div>\n"
            ]
          },
          "metadata": {},
          "execution_count": 89
        }
      ]
    },
    {
      "cell_type": "code",
      "source": [],
      "metadata": {
        "colab": {
          "base_uri": "https://localhost:8080/"
        },
        "id": "bs_v06aXfNAg",
        "outputId": "805a23da-eb58-4c93-fa0c-c0e453011ccc"
      },
      "execution_count": null,
      "outputs": [
        {
          "output_type": "stream",
          "name": "stdout",
          "text": [
            "<bound method Series.sort_values of 0       0 days 00:07:31\n",
            "1       0 days 00:14:02\n",
            "2       0 days 00:10:44\n",
            "3       0 days 00:15:03\n",
            "4       0 days 00:05:52\n",
            "              ...      \n",
            "38794   0 days 00:09:13\n",
            "38795   0 days 00:16:53\n",
            "38796   0 days 00:05:06\n",
            "38797   0 days 00:05:28\n",
            "38798   0 days 00:18:06\n",
            "Name: ride_length, Length: 662685, dtype: timedelta64[ns]>\n"
          ]
        }
      ]
    }
  ],
  "metadata": {
    "colab": {
      "provenance": [],
      "authorship_tag": "ABX9TyMByrsBE3PM9P5+lTY9wqRZ",
      "include_colab_link": true
    },
    "kernelspec": {
      "display_name": "Python 3",
      "name": "python3"
    },
    "language_info": {
      "name": "python"
    }
  },
  "nbformat": 4,
  "nbformat_minor": 0
}