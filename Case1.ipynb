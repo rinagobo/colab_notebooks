{
  "cells": [
    {
      "cell_type": "markdown",
      "metadata": {
        "id": "view-in-github",
        "colab_type": "text"
      },
      "source": [
        "<a href=\"https://colab.research.google.com/github/rinagobo/colab_notebooks/blob/main/Case1.ipynb\" target=\"_parent\"><img src=\"https://colab.research.google.com/assets/colab-badge.svg\" alt=\"Open In Colab\"/></a>"
      ]
    },
    {
      "cell_type": "markdown",
      "metadata": {
        "id": "YDur3IuyB5VK"
      },
      "source": [
        "# Case Study: How Does a Bike-Share Navigate Speedy Success?\n",
        "\n",
        "**Business Goal**\n",
        "Maximizing the number of annual membership.\n",
        "\n",
        "**Question to Answer:**\n",
        "How do annual members and casual riders use cyclistic bikes differently?\n",
        "\n",
        "**Data resourse:**\n",
        "12 months of trip data from 2022-08 to 2023-07"
      ]
    },
    {
      "cell_type": "code",
      "execution_count": 1,
      "metadata": {
        "colab": {
          "base_uri": "https://localhost:8080/"
        },
        "id": "psR15Kf1CFpL",
        "outputId": "e6711526-d284-45fc-a162-9432a9079bf1"
      },
      "outputs": [
        {
          "output_type": "stream",
          "name": "stdout",
          "text": [
            "Requirement already satisfied: plotly in /usr/local/lib/python3.10/dist-packages (5.15.0)\n",
            "Collecting plotly\n",
            "  Downloading plotly-5.16.1-py2.py3-none-any.whl (15.6 MB)\n",
            "\u001b[2K     \u001b[90m━━━━━━━━━━━━━━━━━━━━━━━━━━━━━━━━━━━━━━━━\u001b[0m \u001b[32m15.6/15.6 MB\u001b[0m \u001b[31m42.0 MB/s\u001b[0m eta \u001b[36m0:00:00\u001b[0m\n",
            "\u001b[?25hRequirement already satisfied: tenacity>=6.2.0 in /usr/local/lib/python3.10/dist-packages (from plotly) (8.2.3)\n",
            "Requirement already satisfied: packaging in /usr/local/lib/python3.10/dist-packages (from plotly) (23.1)\n",
            "Installing collected packages: plotly\n",
            "  Attempting uninstall: plotly\n",
            "    Found existing installation: plotly 5.15.0\n",
            "    Uninstalling plotly-5.15.0:\n",
            "      Successfully uninstalled plotly-5.15.0\n",
            "Successfully installed plotly-5.16.1\n"
          ]
        }
      ],
      "source": [
        "%pip install --upgrade plotly"
      ]
    },
    {
      "cell_type": "code",
      "execution_count": 2,
      "metadata": {
        "id": "dTs4FgDgJ1YQ"
      },
      "outputs": [],
      "source": [
        "import numpy as np\n",
        "import pandas as pd\n",
        "import plotly.express as px\n",
        "import matplotlib.pyplot as plt\n",
        "import seaborn as sns"
      ]
    },
    {
      "cell_type": "code",
      "execution_count": 3,
      "metadata": {
        "id": "qFsOtAL9J8kQ"
      },
      "outputs": [],
      "source": [
        "pd.options.display.float_format = '{:,.2f}'.format"
      ]
    },
    {
      "cell_type": "markdown",
      "metadata": {
        "id": "tFoa5E4hMXrj"
      },
      "source": [
        "**1. Explore each dataset before combining all as a whole year**\n",
        "\n"
      ]
    },
    {
      "cell_type": "code",
      "execution_count": 4,
      "metadata": {
        "id": "8WwtDE9JJ_bH"
      },
      "outputs": [],
      "source": [
        "df_08 = pd.read_csv(\"202208-divvy-tripdata.csv\", quoting=3)\n",
        "df_09 = pd.read_csv(\"202209-divvy-tripdata.csv\", quoting=3)\n",
        "df_10 = pd.read_csv(\"202210-divvy-tripdata.csv\", quoting=3)\n",
        "df_11 = pd.read_csv(\"202211-divvy-tripdata.csv\", quoting=3)\n",
        "df_12 = pd.read_csv(\"202212-divvy-tripdata.csv\", quoting=3)\n",
        "df_01 = pd.read_csv(\"202301-divvy-tripdata.csv\", quoting=3)\n",
        "df_02 = pd.read_csv(\"202302-divvy-tripdata.csv\", quoting=3)\n",
        "df_03 = pd.read_csv(\"202303-divvy-tripdata.csv\", quoting=3)\n",
        "df_04 = pd.read_csv(\"202304-divvy-tripdata.csv\", quoting=3)\n",
        "df_05 = pd.read_csv(\"202305-divvy-tripdata.csv\", quoting=3)\n",
        "df_06 = pd.read_csv(\"202306-divvy-tripdata.csv\", quoting=3)\n",
        "df_07 = pd.read_csv(\"202307-divvy-tripdata.csv\", quoting=3)"
      ]
    },
    {
      "cell_type": "code",
      "execution_count": null,
      "metadata": {
        "colab": {
          "base_uri": "https://localhost:8080/"
        },
        "id": "eQqq72jZMzjM",
        "outputId": "823b988f-8818-4a8c-8f21-91bb6158ec92"
      },
      "outputs": [
        {
          "data": {
            "text/plain": [
              "(119536, 13)"
            ]
          },
          "execution_count": 34,
          "metadata": {},
          "output_type": "execute_result"
        }
      ],
      "source": [
        "df_08.shape # (121915, 13)\n",
        "df_09.shape # (119536, 13)\n",
        "df_10.shape # (105378, 13)\n",
        "df_11.shape # (111138, 13)\n",
        "df_12.shape # (111145, 13)\n",
        "df_01.shape # (123012, 13)\n",
        "df_02.shape # (121986, 13)\n",
        "df_03.shape # (111480, 13)\n",
        "df_04.shape # (111924, 13)\n",
        "df_05.shape # (101005, 13)\n",
        "df_06.shape # (99281, 13)\n",
        "df_07.shape # (92249, 13)"
      ]
    },
    {
      "cell_type": "code",
      "execution_count": 5,
      "metadata": {
        "colab": {
          "base_uri": "https://localhost:8080/"
        },
        "id": "PH2h5kNXNJOB",
        "outputId": "c733c032-436f-471b-c27d-447214ce22ff"
      },
      "outputs": [
        {
          "output_type": "execute_result",
          "data": {
            "text/plain": [
              "(51797, 5)"
            ]
          },
          "metadata": {},
          "execution_count": 5
        }
      ],
      "source": [
        "df_08.columns\n",
        "new_df_08 = df_08.drop(['start_station_name', 'start_station_id', 'end_station_name',\n",
        "       'end_station_id', 'start_lat', 'start_lng', 'end_lat', 'end_lng'], axis = 1, inplace = False)\n",
        "new_df_08.shape"
      ]
    },
    {
      "cell_type": "code",
      "execution_count": 6,
      "metadata": {
        "colab": {
          "base_uri": "https://localhost:8080/"
        },
        "id": "qzVBIHH0NZ4U",
        "outputId": "ae3c3b99-5420-49b7-ba45-fed8053c8bd6"
      },
      "outputs": [
        {
          "output_type": "execute_result",
          "data": {
            "text/plain": [
              "(61327, 5)"
            ]
          },
          "metadata": {},
          "execution_count": 6
        }
      ],
      "source": [
        "new_09_columns = [col[1:-1] for col in df_09.columns]\n",
        "df_09.columns = new_09_columns\n",
        "df_09.columns\n",
        "\n",
        "new_df_09 = df_09.drop(['start_station_name', 'start_station_id', 'end_station_name',\n",
        "       'end_station_id', 'start_lat', 'start_lng', 'end_lat', 'end_lng'], axis = 1, inplace = False)\n",
        "new_df_09.shape"
      ]
    },
    {
      "cell_type": "code",
      "execution_count": 7,
      "metadata": {
        "colab": {
          "base_uri": "https://localhost:8080/"
        },
        "id": "ezhg71JVNesn",
        "outputId": "b1ef41b6-2aa3-4ea7-dbb8-dcd6a65713ea"
      },
      "outputs": [
        {
          "output_type": "execute_result",
          "data": {
            "text/plain": [
              "(65291, 5)"
            ]
          },
          "metadata": {},
          "execution_count": 7
        }
      ],
      "source": [
        "new_10_columns = [col[1:-1] for col in df_10.columns]\n",
        "df_10.columns = new_10_columns\n",
        "df_10.columns\n",
        "\n",
        "new_df_10 = df_10.drop(['start_station_name', 'start_station_id', 'end_station_name',\n",
        "       'end_station_id', 'start_lat', 'start_lng', 'end_lat', 'end_lng'], axis = 1, inplace = False)\n",
        "new_df_10.shape"
      ]
    },
    {
      "cell_type": "code",
      "execution_count": 8,
      "metadata": {
        "colab": {
          "base_uri": "https://localhost:8080/"
        },
        "id": "bfK_CeUaNilx",
        "outputId": "70d9f538-72c1-4cca-e002-cc7989725add"
      },
      "outputs": [
        {
          "output_type": "execute_result",
          "data": {
            "text/plain": [
              "(81567, 5)"
            ]
          },
          "metadata": {},
          "execution_count": 8
        }
      ],
      "source": [
        "new_11_columns = [col[1:-1] for col in df_11.columns]\n",
        "df_11.columns = new_11_columns\n",
        "df_11.columns\n",
        "\n",
        "new_df_11 = df_11.drop(['start_station_name', 'start_station_id', 'end_station_name',\n",
        "       'end_station_id', 'start_lat', 'start_lng', 'end_lat', 'end_lng'], axis = 1, inplace = False)\n",
        "new_df_11.shape"
      ]
    },
    {
      "cell_type": "code",
      "execution_count": 9,
      "metadata": {
        "colab": {
          "base_uri": "https://localhost:8080/"
        },
        "id": "noaRUGvaNtHr",
        "outputId": "fa67ec24-a27b-413e-a38a-5028512998da"
      },
      "outputs": [
        {
          "output_type": "execute_result",
          "data": {
            "text/plain": [
              "(86138, 5)"
            ]
          },
          "metadata": {},
          "execution_count": 9
        }
      ],
      "source": [
        "new_12_columns = [col[1:-1] for col in df_12.columns]\n",
        "df_12.columns = new_12_columns\n",
        "df_12.columns\n",
        "\n",
        "new_df_12 = df_12.drop(['start_station_name', 'start_station_id', 'end_station_name',\n",
        "       'end_station_id', 'start_lat', 'start_lng', 'end_lat', 'end_lng'], axis = 1, inplace = False)\n",
        "new_df_12.shape"
      ]
    },
    {
      "cell_type": "code",
      "execution_count": 10,
      "metadata": {
        "id": "k8yfS9mSNxJn",
        "colab": {
          "base_uri": "https://localhost:8080/"
        },
        "outputId": "aa95b113-e817-44bc-cd44-ecae75df6c9e"
      },
      "outputs": [
        {
          "output_type": "execute_result",
          "data": {
            "text/plain": [
              "(91895, 5)"
            ]
          },
          "metadata": {},
          "execution_count": 10
        }
      ],
      "source": [
        "new_01_columns = [col[1:-1] for col in df_01.columns]\n",
        "df_01.columns = new_01_columns\n",
        "df_01.columns\n",
        "\n",
        "new_df_01 = df_01.drop(['start_station_name', 'start_station_id', 'end_station_name',\n",
        "       'end_station_id', 'start_lat', 'start_lng', 'end_lat', 'end_lng'], axis = 1, inplace = False)\n",
        "new_df_01.shape"
      ]
    },
    {
      "cell_type": "code",
      "execution_count": 11,
      "metadata": {
        "colab": {
          "base_uri": "https://localhost:8080/"
        },
        "id": "f9zEI8V0N24X",
        "outputId": "fe5b8898-7929-437b-cee7-05861c7dc846"
      },
      "outputs": [
        {
          "output_type": "execute_result",
          "data": {
            "text/plain": [
              "(90251, 5)"
            ]
          },
          "metadata": {},
          "execution_count": 11
        }
      ],
      "source": [
        "new_02_columns = [col[1:-1] for col in df_02.columns]\n",
        "df_02.columns = new_02_columns\n",
        "df_02.columns\n",
        "\n",
        "new_df_02 = df_02.drop(['start_station_name', 'start_station_id', 'end_station_name',\n",
        "       'end_station_id', 'start_lat', 'start_lng', 'end_lat', 'end_lng'], axis = 1, inplace = False)\n",
        "new_df_02.shape"
      ]
    },
    {
      "cell_type": "code",
      "execution_count": 12,
      "metadata": {
        "colab": {
          "base_uri": "https://localhost:8080/"
        },
        "id": "FIY-yCG1N59n",
        "outputId": "1b79cc0e-7929-4a25-a01e-c273d988cea6"
      },
      "outputs": [
        {
          "output_type": "execute_result",
          "data": {
            "text/plain": [
              "(81144, 5)"
            ]
          },
          "metadata": {},
          "execution_count": 12
        }
      ],
      "source": [
        "new_03_columns = [col[1:-1] for col in df_03.columns]\n",
        "df_03.columns = new_03_columns\n",
        "df_03.columns\n",
        "\n",
        "new_df_03 = df_03.drop(['start_station_name', 'start_station_id', 'end_station_name',\n",
        "       'end_station_id', 'start_lat', 'start_lng', 'end_lat', 'end_lng'], axis = 1, inplace = False)\n",
        "new_df_03.shape"
      ]
    },
    {
      "cell_type": "code",
      "execution_count": 13,
      "metadata": {
        "colab": {
          "base_uri": "https://localhost:8080/"
        },
        "id": "a-HM08j0N8CD",
        "outputId": "5a4a755a-c5e9-49be-e63a-5e31e6f09e94"
      },
      "outputs": [
        {
          "output_type": "execute_result",
          "data": {
            "text/plain": [
              "(79826, 5)"
            ]
          },
          "metadata": {},
          "execution_count": 13
        }
      ],
      "source": [
        "new_04_columns = [col[1:-1] for col in df_04.columns]\n",
        "df_04.columns = new_04_columns\n",
        "df_04.columns\n",
        "\n",
        "new_df_04 = df_04.drop(['start_station_name', 'start_station_id', 'end_station_name',\n",
        "       'end_station_id', 'start_lat', 'start_lng', 'end_lat', 'end_lng'], axis = 1, inplace = False)\n",
        "new_df_04.shape"
      ]
    },
    {
      "cell_type": "code",
      "execution_count": 14,
      "metadata": {
        "colab": {
          "base_uri": "https://localhost:8080/"
        },
        "id": "vbtgOj7iOA2v",
        "outputId": "5561d110-8fea-4dcb-ef43-c01582b2bd05"
      },
      "outputs": [
        {
          "output_type": "execute_result",
          "data": {
            "text/plain": [
              "(60687, 5)"
            ]
          },
          "metadata": {},
          "execution_count": 14
        }
      ],
      "source": [
        "new_05_columns = [col[1:-1] for col in df_05.columns]\n",
        "df_05.columns = new_05_columns\n",
        "df_05.columns\n",
        "\n",
        "new_df_05 = df_05.drop(['start_station_name', 'start_station_id', 'end_station_name',\n",
        "       'end_station_id', 'start_lat', 'start_lng', 'end_lat', 'end_lng'], axis = 1, inplace = False)\n",
        "new_df_05.shape"
      ]
    },
    {
      "cell_type": "code",
      "execution_count": 15,
      "metadata": {
        "colab": {
          "base_uri": "https://localhost:8080/"
        },
        "id": "GMVn9vu2SWfx",
        "outputId": "176150c7-23fc-4ebe-ee3c-2f4232f75a11"
      },
      "outputs": [
        {
          "output_type": "execute_result",
          "data": {
            "text/plain": [
              "(55599, 5)"
            ]
          },
          "metadata": {},
          "execution_count": 15
        }
      ],
      "source": [
        "new_06_columns = [col[1:-1] for col in df_06.columns]\n",
        "df_06.columns = new_06_columns\n",
        "df_06.columns\n",
        "\n",
        "new_df_06 = df_06.drop(['start_station_name', 'start_station_id', 'end_station_name',\n",
        "       'end_station_id', 'start_lat', 'start_lng', 'end_lat', 'end_lng'], axis = 1, inplace = False)\n",
        "new_df_06.shape"
      ]
    },
    {
      "cell_type": "code",
      "execution_count": 16,
      "metadata": {
        "colab": {
          "base_uri": "https://localhost:8080/"
        },
        "id": "GZY_Us7QSYP8",
        "outputId": "7b5c8226-182f-442f-8c0d-b193cc3b78dc"
      },
      "outputs": [
        {
          "output_type": "execute_result",
          "data": {
            "text/plain": [
              "(63082, 5)"
            ]
          },
          "metadata": {},
          "execution_count": 16
        }
      ],
      "source": [
        "new_07_columns = [col[1:-1] for col in df_07.columns]\n",
        "df_07.columns = new_07_columns\n",
        "df_07.columns\n",
        "\n",
        "new_df_07 = df_07.drop(['start_station_name', 'start_station_id', 'end_station_name',\n",
        "       'end_station_id', 'start_lat', 'start_lng', 'end_lat', 'end_lng'], axis = 1, inplace = False)\n",
        "new_df_07.shape"
      ]
    },
    {
      "cell_type": "markdown",
      "source": [
        "**2. Merging all the 12 months dataframes with only necessary columns**"
      ],
      "metadata": {
        "id": "7ic8p3FlV1hm"
      }
    },
    {
      "cell_type": "code",
      "source": [
        "frames = [new_df_08, new_df_09, new_df_10, new_df_11, new_df_12, new_df_01, new_df_02, new_df_03, new_df_04, new_df_05, new_df_06, new_df_07]\n",
        "past_12_months_df = pd.concat(frames)\n",
        "past_12_months_df"
      ],
      "metadata": {
        "colab": {
          "base_uri": "https://localhost:8080/",
          "height": 423
        },
        "id": "5M8Iya2vWASa",
        "outputId": "38d30550-6954-4150-a31d-13ebba3f86b8"
      },
      "execution_count": 17,
      "outputs": [
        {
          "output_type": "execute_result",
          "data": {
            "text/plain": [
              "                  ride_id    rideable_type             started_at  \\\n",
              "0        550CF7EFEAE0C618    electric_bike    2022-08-07 21:34:15   \n",
              "1        DAD198F405F9C5F5    electric_bike    2022-08-08 14:39:21   \n",
              "2        E6F2BC47B65CB7FD    electric_bike    2022-08-08 15:29:50   \n",
              "3        F597830181C2E13C    electric_bike    2022-08-08 02:43:50   \n",
              "4        0CE689BB4E313E8D    electric_bike    2022-08-07 20:24:06   \n",
              "...                   ...              ...                    ...   \n",
              "63077  \"29DBBED8DDA5BDAC\"    \"docked_bike\"  \"2023-07-14 15:09:51\"   \n",
              "63078  \"3081195A08D9A059\"  \"electric_bike\"  \"2023-07-13 07:23:21\"   \n",
              "63079  \"496424551413D66C\"   \"classic_bike\"  \"2023-07-19 13:02:04\"   \n",
              "63080  \"ABD6591B66F10C1B\"    \"docked_bike\"  \"2023-07-14 15:11:39\"   \n",
              "63081  \"81F7805697D53AE0\"    \"docked_bike\"  \"2023-07-29 16:54:23\"   \n",
              "\n",
              "                    ended_at member_casual  \n",
              "0        2022-08-07 21:41:46        casual  \n",
              "1        2022-08-08 14:53:23        casual  \n",
              "2        2022-08-08 15:40:34        casual  \n",
              "3        2022-08-08 02:58:53        casual  \n",
              "4        2022-08-07 20:29:58        casual  \n",
              "...                      ...           ...  \n",
              "63077  \"2023-07-14 16:12:30\"      \"casual\"  \n",
              "63078  \"2023-07-13 07:27:54\"      \"member\"  \n",
              "63079  \"2023-07-19 13:07:11\"      \"member\"  \n",
              "63080  \"2023-07-14 16:12:33\"      \"casual\"  \n",
              "63081  \"2023-07-29 17:52:22\"           NaN  \n",
              "\n",
              "[868604 rows x 5 columns]"
            ],
            "text/html": [
              "\n",
              "  <div id=\"df-7401a96a-9cce-4556-9faa-f3fe54e2b4e7\" class=\"colab-df-container\">\n",
              "    <div>\n",
              "<style scoped>\n",
              "    .dataframe tbody tr th:only-of-type {\n",
              "        vertical-align: middle;\n",
              "    }\n",
              "\n",
              "    .dataframe tbody tr th {\n",
              "        vertical-align: top;\n",
              "    }\n",
              "\n",
              "    .dataframe thead th {\n",
              "        text-align: right;\n",
              "    }\n",
              "</style>\n",
              "<table border=\"1\" class=\"dataframe\">\n",
              "  <thead>\n",
              "    <tr style=\"text-align: right;\">\n",
              "      <th></th>\n",
              "      <th>ride_id</th>\n",
              "      <th>rideable_type</th>\n",
              "      <th>started_at</th>\n",
              "      <th>ended_at</th>\n",
              "      <th>member_casual</th>\n",
              "    </tr>\n",
              "  </thead>\n",
              "  <tbody>\n",
              "    <tr>\n",
              "      <th>0</th>\n",
              "      <td>550CF7EFEAE0C618</td>\n",
              "      <td>electric_bike</td>\n",
              "      <td>2022-08-07 21:34:15</td>\n",
              "      <td>2022-08-07 21:41:46</td>\n",
              "      <td>casual</td>\n",
              "    </tr>\n",
              "    <tr>\n",
              "      <th>1</th>\n",
              "      <td>DAD198F405F9C5F5</td>\n",
              "      <td>electric_bike</td>\n",
              "      <td>2022-08-08 14:39:21</td>\n",
              "      <td>2022-08-08 14:53:23</td>\n",
              "      <td>casual</td>\n",
              "    </tr>\n",
              "    <tr>\n",
              "      <th>2</th>\n",
              "      <td>E6F2BC47B65CB7FD</td>\n",
              "      <td>electric_bike</td>\n",
              "      <td>2022-08-08 15:29:50</td>\n",
              "      <td>2022-08-08 15:40:34</td>\n",
              "      <td>casual</td>\n",
              "    </tr>\n",
              "    <tr>\n",
              "      <th>3</th>\n",
              "      <td>F597830181C2E13C</td>\n",
              "      <td>electric_bike</td>\n",
              "      <td>2022-08-08 02:43:50</td>\n",
              "      <td>2022-08-08 02:58:53</td>\n",
              "      <td>casual</td>\n",
              "    </tr>\n",
              "    <tr>\n",
              "      <th>4</th>\n",
              "      <td>0CE689BB4E313E8D</td>\n",
              "      <td>electric_bike</td>\n",
              "      <td>2022-08-07 20:24:06</td>\n",
              "      <td>2022-08-07 20:29:58</td>\n",
              "      <td>casual</td>\n",
              "    </tr>\n",
              "    <tr>\n",
              "      <th>...</th>\n",
              "      <td>...</td>\n",
              "      <td>...</td>\n",
              "      <td>...</td>\n",
              "      <td>...</td>\n",
              "      <td>...</td>\n",
              "    </tr>\n",
              "    <tr>\n",
              "      <th>63077</th>\n",
              "      <td>\"29DBBED8DDA5BDAC\"</td>\n",
              "      <td>\"docked_bike\"</td>\n",
              "      <td>\"2023-07-14 15:09:51\"</td>\n",
              "      <td>\"2023-07-14 16:12:30\"</td>\n",
              "      <td>\"casual\"</td>\n",
              "    </tr>\n",
              "    <tr>\n",
              "      <th>63078</th>\n",
              "      <td>\"3081195A08D9A059\"</td>\n",
              "      <td>\"electric_bike\"</td>\n",
              "      <td>\"2023-07-13 07:23:21\"</td>\n",
              "      <td>\"2023-07-13 07:27:54\"</td>\n",
              "      <td>\"member\"</td>\n",
              "    </tr>\n",
              "    <tr>\n",
              "      <th>63079</th>\n",
              "      <td>\"496424551413D66C\"</td>\n",
              "      <td>\"classic_bike\"</td>\n",
              "      <td>\"2023-07-19 13:02:04\"</td>\n",
              "      <td>\"2023-07-19 13:07:11\"</td>\n",
              "      <td>\"member\"</td>\n",
              "    </tr>\n",
              "    <tr>\n",
              "      <th>63080</th>\n",
              "      <td>\"ABD6591B66F10C1B\"</td>\n",
              "      <td>\"docked_bike\"</td>\n",
              "      <td>\"2023-07-14 15:11:39\"</td>\n",
              "      <td>\"2023-07-14 16:12:33\"</td>\n",
              "      <td>\"casual\"</td>\n",
              "    </tr>\n",
              "    <tr>\n",
              "      <th>63081</th>\n",
              "      <td>\"81F7805697D53AE0\"</td>\n",
              "      <td>\"docked_bike\"</td>\n",
              "      <td>\"2023-07-29 16:54:23\"</td>\n",
              "      <td>\"2023-07-29 17:52:22\"</td>\n",
              "      <td>NaN</td>\n",
              "    </tr>\n",
              "  </tbody>\n",
              "</table>\n",
              "<p>868604 rows × 5 columns</p>\n",
              "</div>\n",
              "    <div class=\"colab-df-buttons\">\n",
              "\n",
              "  <div class=\"colab-df-container\">\n",
              "    <button class=\"colab-df-convert\" onclick=\"convertToInteractive('df-7401a96a-9cce-4556-9faa-f3fe54e2b4e7')\"\n",
              "            title=\"Convert this dataframe to an interactive table.\"\n",
              "            style=\"display:none;\">\n",
              "\n",
              "  <svg xmlns=\"http://www.w3.org/2000/svg\" height=\"24px\" viewBox=\"0 -960 960 960\">\n",
              "    <path d=\"M120-120v-720h720v720H120Zm60-500h600v-160H180v160Zm220 220h160v-160H400v160Zm0 220h160v-160H400v160ZM180-400h160v-160H180v160Zm440 0h160v-160H620v160ZM180-180h160v-160H180v160Zm440 0h160v-160H620v160Z\"/>\n",
              "  </svg>\n",
              "    </button>\n",
              "\n",
              "  <style>\n",
              "    .colab-df-container {\n",
              "      display:flex;\n",
              "      gap: 12px;\n",
              "    }\n",
              "\n",
              "    .colab-df-convert {\n",
              "      background-color: #E8F0FE;\n",
              "      border: none;\n",
              "      border-radius: 50%;\n",
              "      cursor: pointer;\n",
              "      display: none;\n",
              "      fill: #1967D2;\n",
              "      height: 32px;\n",
              "      padding: 0 0 0 0;\n",
              "      width: 32px;\n",
              "    }\n",
              "\n",
              "    .colab-df-convert:hover {\n",
              "      background-color: #E2EBFA;\n",
              "      box-shadow: 0px 1px 2px rgba(60, 64, 67, 0.3), 0px 1px 3px 1px rgba(60, 64, 67, 0.15);\n",
              "      fill: #174EA6;\n",
              "    }\n",
              "\n",
              "    .colab-df-buttons div {\n",
              "      margin-bottom: 4px;\n",
              "    }\n",
              "\n",
              "    [theme=dark] .colab-df-convert {\n",
              "      background-color: #3B4455;\n",
              "      fill: #D2E3FC;\n",
              "    }\n",
              "\n",
              "    [theme=dark] .colab-df-convert:hover {\n",
              "      background-color: #434B5C;\n",
              "      box-shadow: 0px 1px 3px 1px rgba(0, 0, 0, 0.15);\n",
              "      filter: drop-shadow(0px 1px 2px rgba(0, 0, 0, 0.3));\n",
              "      fill: #FFFFFF;\n",
              "    }\n",
              "  </style>\n",
              "\n",
              "    <script>\n",
              "      const buttonEl =\n",
              "        document.querySelector('#df-7401a96a-9cce-4556-9faa-f3fe54e2b4e7 button.colab-df-convert');\n",
              "      buttonEl.style.display =\n",
              "        google.colab.kernel.accessAllowed ? 'block' : 'none';\n",
              "\n",
              "      async function convertToInteractive(key) {\n",
              "        const element = document.querySelector('#df-7401a96a-9cce-4556-9faa-f3fe54e2b4e7');\n",
              "        const dataTable =\n",
              "          await google.colab.kernel.invokeFunction('convertToInteractive',\n",
              "                                                    [key], {});\n",
              "        if (!dataTable) return;\n",
              "\n",
              "        const docLinkHtml = 'Like what you see? Visit the ' +\n",
              "          '<a target=\"_blank\" href=https://colab.research.google.com/notebooks/data_table.ipynb>data table notebook</a>'\n",
              "          + ' to learn more about interactive tables.';\n",
              "        element.innerHTML = '';\n",
              "        dataTable['output_type'] = 'display_data';\n",
              "        await google.colab.output.renderOutput(dataTable, element);\n",
              "        const docLink = document.createElement('div');\n",
              "        docLink.innerHTML = docLinkHtml;\n",
              "        element.appendChild(docLink);\n",
              "      }\n",
              "    </script>\n",
              "  </div>\n",
              "\n",
              "\n",
              "<div id=\"df-231b2294-6514-4779-a456-a064208c565b\">\n",
              "  <button class=\"colab-df-quickchart\" onclick=\"quickchart('df-231b2294-6514-4779-a456-a064208c565b')\"\n",
              "            title=\"Suggest charts.\"\n",
              "            style=\"display:none;\">\n",
              "\n",
              "<svg xmlns=\"http://www.w3.org/2000/svg\" height=\"24px\"viewBox=\"0 0 24 24\"\n",
              "     width=\"24px\">\n",
              "    <g>\n",
              "        <path d=\"M19 3H5c-1.1 0-2 .9-2 2v14c0 1.1.9 2 2 2h14c1.1 0 2-.9 2-2V5c0-1.1-.9-2-2-2zM9 17H7v-7h2v7zm4 0h-2V7h2v10zm4 0h-2v-4h2v4z\"/>\n",
              "    </g>\n",
              "</svg>\n",
              "  </button>\n",
              "\n",
              "<style>\n",
              "  .colab-df-quickchart {\n",
              "      --bg-color: #E8F0FE;\n",
              "      --fill-color: #1967D2;\n",
              "      --hover-bg-color: #E2EBFA;\n",
              "      --hover-fill-color: #174EA6;\n",
              "      --disabled-fill-color: #AAA;\n",
              "      --disabled-bg-color: #DDD;\n",
              "  }\n",
              "\n",
              "  [theme=dark] .colab-df-quickchart {\n",
              "      --bg-color: #3B4455;\n",
              "      --fill-color: #D2E3FC;\n",
              "      --hover-bg-color: #434B5C;\n",
              "      --hover-fill-color: #FFFFFF;\n",
              "      --disabled-bg-color: #3B4455;\n",
              "      --disabled-fill-color: #666;\n",
              "  }\n",
              "\n",
              "  .colab-df-quickchart {\n",
              "    background-color: var(--bg-color);\n",
              "    border: none;\n",
              "    border-radius: 50%;\n",
              "    cursor: pointer;\n",
              "    display: none;\n",
              "    fill: var(--fill-color);\n",
              "    height: 32px;\n",
              "    padding: 0;\n",
              "    width: 32px;\n",
              "  }\n",
              "\n",
              "  .colab-df-quickchart:hover {\n",
              "    background-color: var(--hover-bg-color);\n",
              "    box-shadow: 0 1px 2px rgba(60, 64, 67, 0.3), 0 1px 3px 1px rgba(60, 64, 67, 0.15);\n",
              "    fill: var(--button-hover-fill-color);\n",
              "  }\n",
              "\n",
              "  .colab-df-quickchart-complete:disabled,\n",
              "  .colab-df-quickchart-complete:disabled:hover {\n",
              "    background-color: var(--disabled-bg-color);\n",
              "    fill: var(--disabled-fill-color);\n",
              "    box-shadow: none;\n",
              "  }\n",
              "\n",
              "  .colab-df-spinner {\n",
              "    border: 2px solid var(--fill-color);\n",
              "    border-color: transparent;\n",
              "    border-bottom-color: var(--fill-color);\n",
              "    animation:\n",
              "      spin 1s steps(1) infinite;\n",
              "  }\n",
              "\n",
              "  @keyframes spin {\n",
              "    0% {\n",
              "      border-color: transparent;\n",
              "      border-bottom-color: var(--fill-color);\n",
              "      border-left-color: var(--fill-color);\n",
              "    }\n",
              "    20% {\n",
              "      border-color: transparent;\n",
              "      border-left-color: var(--fill-color);\n",
              "      border-top-color: var(--fill-color);\n",
              "    }\n",
              "    30% {\n",
              "      border-color: transparent;\n",
              "      border-left-color: var(--fill-color);\n",
              "      border-top-color: var(--fill-color);\n",
              "      border-right-color: var(--fill-color);\n",
              "    }\n",
              "    40% {\n",
              "      border-color: transparent;\n",
              "      border-right-color: var(--fill-color);\n",
              "      border-top-color: var(--fill-color);\n",
              "    }\n",
              "    60% {\n",
              "      border-color: transparent;\n",
              "      border-right-color: var(--fill-color);\n",
              "    }\n",
              "    80% {\n",
              "      border-color: transparent;\n",
              "      border-right-color: var(--fill-color);\n",
              "      border-bottom-color: var(--fill-color);\n",
              "    }\n",
              "    90% {\n",
              "      border-color: transparent;\n",
              "      border-bottom-color: var(--fill-color);\n",
              "    }\n",
              "  }\n",
              "</style>\n",
              "\n",
              "  <script>\n",
              "    async function quickchart(key) {\n",
              "      const quickchartButtonEl =\n",
              "        document.querySelector('#' + key + ' button');\n",
              "      quickchartButtonEl.disabled = true;  // To prevent multiple clicks.\n",
              "      quickchartButtonEl.classList.add('colab-df-spinner');\n",
              "      try {\n",
              "        const charts = await google.colab.kernel.invokeFunction(\n",
              "            'suggestCharts', [key], {});\n",
              "      } catch (error) {\n",
              "        console.error('Error during call to suggestCharts:', error);\n",
              "      }\n",
              "      quickchartButtonEl.classList.remove('colab-df-spinner');\n",
              "      quickchartButtonEl.classList.add('colab-df-quickchart-complete');\n",
              "    }\n",
              "    (() => {\n",
              "      let quickchartButtonEl =\n",
              "        document.querySelector('#df-231b2294-6514-4779-a456-a064208c565b button');\n",
              "      quickchartButtonEl.style.display =\n",
              "        google.colab.kernel.accessAllowed ? 'block' : 'none';\n",
              "    })();\n",
              "  </script>\n",
              "</div>\n",
              "    </div>\n",
              "  </div>\n"
            ]
          },
          "metadata": {},
          "execution_count": 17
        }
      ]
    },
    {
      "cell_type": "code",
      "source": [
        "# past_12_months_df.isna().values.any() #True\n",
        "cleaned_past_12_df = past_12_months_df.dropna()\n",
        "cleaned_past_12_df.shape"
      ],
      "metadata": {
        "colab": {
          "base_uri": "https://localhost:8080/"
        },
        "id": "UPZlnJ_oWvRr",
        "outputId": "f99e5458-b1e3-4b82-850c-4a2da3c0a8e6"
      },
      "execution_count": 18,
      "outputs": [
        {
          "output_type": "execute_result",
          "data": {
            "text/plain": [
              "(868592, 5)"
            ]
          },
          "metadata": {},
          "execution_count": 18
        }
      ]
    },
    {
      "cell_type": "code",
      "source": [
        "cleaned_past_12_df.ride_id = cleaned_past_12_df.ride_id.str.replace('\"', '')\n",
        "cleaned_past_12_df.ride_id\n",
        "# len(cleaned_past_12_df.ride_id.unique()) # The id for all rows are unique"
      ],
      "metadata": {
        "colab": {
          "base_uri": "https://localhost:8080/"
        },
        "id": "3OUWe2HLZViA",
        "outputId": "b4da2480-af71-4872-bc2d-6f2b70c50dbb"
      },
      "execution_count": 19,
      "outputs": [
        {
          "output_type": "stream",
          "name": "stderr",
          "text": [
            "<ipython-input-19-b1ff97ce1892>:1: SettingWithCopyWarning: \n",
            "A value is trying to be set on a copy of a slice from a DataFrame.\n",
            "Try using .loc[row_indexer,col_indexer] = value instead\n",
            "\n",
            "See the caveats in the documentation: https://pandas.pydata.org/pandas-docs/stable/user_guide/indexing.html#returning-a-view-versus-a-copy\n",
            "  cleaned_past_12_df.ride_id = cleaned_past_12_df.ride_id.str.replace('\"', '')\n"
          ]
        },
        {
          "output_type": "execute_result",
          "data": {
            "text/plain": [
              "0        550CF7EFEAE0C618\n",
              "1        DAD198F405F9C5F5\n",
              "2        E6F2BC47B65CB7FD\n",
              "3        F597830181C2E13C\n",
              "4        0CE689BB4E313E8D\n",
              "               ...       \n",
              "63076    642C261005844975\n",
              "63077    29DBBED8DDA5BDAC\n",
              "63078    3081195A08D9A059\n",
              "63079    496424551413D66C\n",
              "63080    ABD6591B66F10C1B\n",
              "Name: ride_id, Length: 868592, dtype: object"
            ]
          },
          "metadata": {},
          "execution_count": 19
        }
      ]
    },
    {
      "cell_type": "code",
      "source": [
        "cleaned_past_12_df.rideable_type = cleaned_past_12_df.rideable_type.str.replace('\"', '')\n",
        "# cleaned_past_12_df.rideable_type"
      ],
      "metadata": {
        "colab": {
          "base_uri": "https://localhost:8080/"
        },
        "id": "BYUKJ6CFbKhf",
        "outputId": "e7223eae-b975-4b64-d985-3f6fa7bd451f"
      },
      "execution_count": 20,
      "outputs": [
        {
          "output_type": "stream",
          "name": "stderr",
          "text": [
            "<ipython-input-20-724795fbed5c>:1: SettingWithCopyWarning: \n",
            "A value is trying to be set on a copy of a slice from a DataFrame.\n",
            "Try using .loc[row_indexer,col_indexer] = value instead\n",
            "\n",
            "See the caveats in the documentation: https://pandas.pydata.org/pandas-docs/stable/user_guide/indexing.html#returning-a-view-versus-a-copy\n",
            "  cleaned_past_12_df.rideable_type = cleaned_past_12_df.rideable_type.str.replace('\"', '')\n"
          ]
        }
      ]
    },
    {
      "cell_type": "code",
      "source": [
        "cleaned_past_12_df.started_at = cleaned_past_12_df.started_at.str.replace('\"', '')\n",
        "# cleaned_past_12_df.started_at"
      ],
      "metadata": {
        "colab": {
          "base_uri": "https://localhost:8080/"
        },
        "id": "nL2FKSaPbTmC",
        "outputId": "d3404867-0488-46c8-c28a-f415fa60d489"
      },
      "execution_count": 21,
      "outputs": [
        {
          "output_type": "stream",
          "name": "stderr",
          "text": [
            "<ipython-input-21-46fa64a6f0e7>:1: SettingWithCopyWarning: \n",
            "A value is trying to be set on a copy of a slice from a DataFrame.\n",
            "Try using .loc[row_indexer,col_indexer] = value instead\n",
            "\n",
            "See the caveats in the documentation: https://pandas.pydata.org/pandas-docs/stable/user_guide/indexing.html#returning-a-view-versus-a-copy\n",
            "  cleaned_past_12_df.started_at = cleaned_past_12_df.started_at.str.replace('\"', '')\n"
          ]
        }
      ]
    },
    {
      "cell_type": "code",
      "source": [
        "cleaned_past_12_df.ended_at = cleaned_past_12_df.ended_at.str.replace('\"', '')\n",
        "# cleaned_past_12_df.ended_at"
      ],
      "metadata": {
        "colab": {
          "base_uri": "https://localhost:8080/"
        },
        "id": "mCr_LwsWbgAe",
        "outputId": "44911d55-2372-4fec-e481-ada770995af6"
      },
      "execution_count": 22,
      "outputs": [
        {
          "output_type": "stream",
          "name": "stderr",
          "text": [
            "<ipython-input-22-933f1392e97d>:1: SettingWithCopyWarning: \n",
            "A value is trying to be set on a copy of a slice from a DataFrame.\n",
            "Try using .loc[row_indexer,col_indexer] = value instead\n",
            "\n",
            "See the caveats in the documentation: https://pandas.pydata.org/pandas-docs/stable/user_guide/indexing.html#returning-a-view-versus-a-copy\n",
            "  cleaned_past_12_df.ended_at = cleaned_past_12_df.ended_at.str.replace('\"', '')\n"
          ]
        }
      ]
    },
    {
      "cell_type": "code",
      "source": [
        "cleaned_past_12_df.member_casual = cleaned_past_12_df.member_casual.str.replace('\"', '')\n",
        "# cleaned_past_12_df.member_casual"
      ],
      "metadata": {
        "colab": {
          "base_uri": "https://localhost:8080/"
        },
        "id": "d-LS6oaRbqeR",
        "outputId": "c493b331-3249-4ead-fa56-1bcff31ecea9"
      },
      "execution_count": 23,
      "outputs": [
        {
          "output_type": "stream",
          "name": "stderr",
          "text": [
            "<ipython-input-23-36790c77d59a>:1: SettingWithCopyWarning: \n",
            "A value is trying to be set on a copy of a slice from a DataFrame.\n",
            "Try using .loc[row_indexer,col_indexer] = value instead\n",
            "\n",
            "See the caveats in the documentation: https://pandas.pydata.org/pandas-docs/stable/user_guide/indexing.html#returning-a-view-versus-a-copy\n",
            "  cleaned_past_12_df.member_casual = cleaned_past_12_df.member_casual.str.replace('\"', '')\n"
          ]
        }
      ]
    },
    {
      "cell_type": "markdown",
      "source": [
        "**3. Explore cleaned_past_12_df**"
      ],
      "metadata": {
        "id": "mTkAIFdqZZay"
      }
    },
    {
      "cell_type": "code",
      "source": [
        "cleaned_past_12_df.ride_id.dtype # Object\n",
        "cleaned_past_12_df.rideable_type.dtype # Object\n",
        "cleaned_past_12_df.started_at.dtype # Object\n",
        "cleaned_past_12_df.ended_at.dtype # Object\n",
        "cleaned_past_12_df.member_casual.dtype# Object"
      ],
      "metadata": {
        "colab": {
          "base_uri": "https://localhost:8080/"
        },
        "id": "jo-8zUo7Ziq2",
        "outputId": "fcc3ab1b-1e28-4948-b787-2cafa8a0480f"
      },
      "execution_count": null,
      "outputs": [
        {
          "output_type": "execute_result",
          "data": {
            "text/plain": [
              "dtype('O')"
            ]
          },
          "metadata": {},
          "execution_count": 31
        }
      ]
    },
    {
      "cell_type": "code",
      "source": [
        "# Change the data types of started_at and ended_at columns from object to datetime64[ns]\n",
        "cleaned_past_12_df['started_at'] = pd.to_datetime(cleaned_past_12_df.started_at)\n",
        "cleaned_past_12_df['ended_at'] = pd.to_datetime(cleaned_past_12_df.ended_at)\n",
        "\n",
        "# cleaned_past_12_df.started_at.dtype # datetime64[ns]\n",
        "# cleaned_past_12_df.ended_at.dtype # datetime64[ns]\n"
      ],
      "metadata": {
        "colab": {
          "base_uri": "https://localhost:8080/"
        },
        "id": "mPOmW30OabRQ",
        "outputId": "ffe89160-f0b7-4005-fe72-32dab284edc6"
      },
      "execution_count": 24,
      "outputs": [
        {
          "output_type": "stream",
          "name": "stderr",
          "text": [
            "<ipython-input-24-b8fd2b7a2c8b>:2: SettingWithCopyWarning: \n",
            "A value is trying to be set on a copy of a slice from a DataFrame.\n",
            "Try using .loc[row_indexer,col_indexer] = value instead\n",
            "\n",
            "See the caveats in the documentation: https://pandas.pydata.org/pandas-docs/stable/user_guide/indexing.html#returning-a-view-versus-a-copy\n",
            "  cleaned_past_12_df['started_at'] = pd.to_datetime(cleaned_past_12_df.started_at)\n",
            "<ipython-input-24-b8fd2b7a2c8b>:3: SettingWithCopyWarning: \n",
            "A value is trying to be set on a copy of a slice from a DataFrame.\n",
            "Try using .loc[row_indexer,col_indexer] = value instead\n",
            "\n",
            "See the caveats in the documentation: https://pandas.pydata.org/pandas-docs/stable/user_guide/indexing.html#returning-a-view-versus-a-copy\n",
            "  cleaned_past_12_df['ended_at'] = pd.to_datetime(cleaned_past_12_df.ended_at)\n"
          ]
        }
      ]
    },
    {
      "cell_type": "code",
      "source": [
        "cleaned_past_12_df['ride_length'] = (cleaned_past_12_df.ended_at - cleaned_past_12_df.started_at) / pd.Timedelta(minutes=1)\n",
        "\n",
        "# Check how many rows have 0 in 'ride_length' column\n",
        "# len(cleaned_past_12_df[(cleaned_past_12_df['ride_length'] == 0)]) #50\n",
        "\n",
        "# Assume that 0 of 'ride_length' means that the users decided not to ride after they register to use\n",
        "# Drop rows with 0 in 'ride_length' column\n",
        "cleaned_past_12_df = cleaned_past_12_df[(cleaned_past_12_df['ride_length'] != 0)] #662635 rows (original: 662685 rows)\n",
        "\n",
        "# Check how many rows have values less than 0 in 'ride_length' column\n",
        "# len(cleaned_past_12_df[(cleaned_past_12_df['ride_length'] < 0)]) #8\n",
        "cleaned_past_12_df[(cleaned_past_12_df['ride_length'] < 0)]\n",
        "\n",
        "# It seems the negative values are caused by the reversed values of 'started_at' and 'ended_at'\n",
        "# Modify the negative values to positive values\n",
        "cleaned_past_12_df['ride_length'] = cleaned_past_12_df['ride_length'].apply(lambda x: -1 * x if x < 0 else x)\n",
        "\n",
        "# Sort cleaned_past_12_df by 'ride_length' column\n",
        "cleaned_past_12_df = cleaned_past_12_df.sort_values(by=['ride_length'])\n",
        "# cleaned_past_12_df\n"
      ],
      "metadata": {
        "colab": {
          "base_uri": "https://localhost:8080/"
        },
        "id": "HQLF20MFdB1I",
        "outputId": "a4c65769-4fbe-4398-9db8-26ce914ce033"
      },
      "execution_count": 25,
      "outputs": [
        {
          "output_type": "stream",
          "name": "stderr",
          "text": [
            "<ipython-input-25-dd4b746470ec>:1: SettingWithCopyWarning: \n",
            "A value is trying to be set on a copy of a slice from a DataFrame.\n",
            "Try using .loc[row_indexer,col_indexer] = value instead\n",
            "\n",
            "See the caveats in the documentation: https://pandas.pydata.org/pandas-docs/stable/user_guide/indexing.html#returning-a-view-versus-a-copy\n",
            "  cleaned_past_12_df['ride_length'] = (cleaned_past_12_df.ended_at - cleaned_past_12_df.started_at) / pd.Timedelta(minutes=1)\n"
          ]
        }
      ]
    },
    {
      "cell_type": "code",
      "source": [
        "# Modify the names of columns to be more sensical\n",
        "cleaned_past_12_df = cleaned_past_12_df.rename(columns={\"ride_id\": \"ride_id\", \"rideable_type\": \"bike_type\", \"started_at\": \"start_time\", \"ended_at\": \"end_time\", \"member_casual\": \"user_type\", \"ride_length\": \"ride_duration(m)\"})"
      ],
      "metadata": {
        "colab": {
          "base_uri": "https://localhost:8080/",
          "height": 597
        },
        "id": "bs_v06aXfNAg",
        "outputId": "6c016d27-68d4-4274-acfe-ccde3b39e509"
      },
      "execution_count": 27,
      "outputs": [
        {
          "output_type": "execute_result",
          "data": {
            "text/plain": [
              "                ride_id      bike_type          start_time  \\\n",
              "76515  4143DA6B1A1B2FB3   classic_bike 2022-11-09 21:59:37   \n",
              "61638  AECB46301F43BD65  electric_bike 2023-02-07 07:53:34   \n",
              "58209  25A92BE65262E96F   classic_bike 2022-09-12 16:52:36   \n",
              "11596  FD36A9D305BA275C  electric_bike 2022-11-01 20:58:10   \n",
              "6744   A835CE839FF8EF8F  electric_bike 2023-01-10 06:42:16   \n",
              "...                 ...            ...                 ...   \n",
              "10882  DFD2D8549F460DB5    docked_bike 2022-09-17 19:46:33   \n",
              "28812  C1C12A2351E93FC4    docked_bike 2022-09-17 10:19:23   \n",
              "13885  B554C12730AFA9C3    docked_bike 2023-05-14 14:33:37   \n",
              "6839   38A41BB0F2B8F37C    docked_bike 2023-05-05 21:53:14   \n",
              "72088  307CA01BAE3CC7E3    docked_bike 2023-01-08 11:08:52   \n",
              "\n",
              "                 end_time user_type  ride_duration  \n",
              "76515 2022-11-09 21:59:38    member           0.02  \n",
              "61638 2023-02-07 07:53:35    member           0.02  \n",
              "58209 2022-09-12 16:52:37    member           0.02  \n",
              "11596 2022-11-01 20:58:11    member           0.02  \n",
              "6744  2023-01-10 06:42:17    member           0.02  \n",
              "...                   ...       ...            ...  \n",
              "10882 2022-10-01 18:51:47    casual      20,105.23  \n",
              "28812 2022-10-01 18:34:29    casual      20,655.10  \n",
              "13885 2023-05-30 04:50:43    casual      22,457.10  \n",
              "6839  2023-05-26 04:43:45    casual      29,210.52  \n",
              "72088 2023-01-31 19:12:36    casual      33,603.73  \n",
              "\n",
              "[868524 rows x 6 columns]"
            ],
            "text/html": [
              "\n",
              "  <div id=\"df-00c87115-2669-462d-8d12-d71c57635409\" class=\"colab-df-container\">\n",
              "    <div>\n",
              "<style scoped>\n",
              "    .dataframe tbody tr th:only-of-type {\n",
              "        vertical-align: middle;\n",
              "    }\n",
              "\n",
              "    .dataframe tbody tr th {\n",
              "        vertical-align: top;\n",
              "    }\n",
              "\n",
              "    .dataframe thead th {\n",
              "        text-align: right;\n",
              "    }\n",
              "</style>\n",
              "<table border=\"1\" class=\"dataframe\">\n",
              "  <thead>\n",
              "    <tr style=\"text-align: right;\">\n",
              "      <th></th>\n",
              "      <th>ride_id</th>\n",
              "      <th>bike_type</th>\n",
              "      <th>start_time</th>\n",
              "      <th>end_time</th>\n",
              "      <th>user_type</th>\n",
              "      <th>ride_duration</th>\n",
              "    </tr>\n",
              "  </thead>\n",
              "  <tbody>\n",
              "    <tr>\n",
              "      <th>76515</th>\n",
              "      <td>4143DA6B1A1B2FB3</td>\n",
              "      <td>classic_bike</td>\n",
              "      <td>2022-11-09 21:59:37</td>\n",
              "      <td>2022-11-09 21:59:38</td>\n",
              "      <td>member</td>\n",
              "      <td>0.02</td>\n",
              "    </tr>\n",
              "    <tr>\n",
              "      <th>61638</th>\n",
              "      <td>AECB46301F43BD65</td>\n",
              "      <td>electric_bike</td>\n",
              "      <td>2023-02-07 07:53:34</td>\n",
              "      <td>2023-02-07 07:53:35</td>\n",
              "      <td>member</td>\n",
              "      <td>0.02</td>\n",
              "    </tr>\n",
              "    <tr>\n",
              "      <th>58209</th>\n",
              "      <td>25A92BE65262E96F</td>\n",
              "      <td>classic_bike</td>\n",
              "      <td>2022-09-12 16:52:36</td>\n",
              "      <td>2022-09-12 16:52:37</td>\n",
              "      <td>member</td>\n",
              "      <td>0.02</td>\n",
              "    </tr>\n",
              "    <tr>\n",
              "      <th>11596</th>\n",
              "      <td>FD36A9D305BA275C</td>\n",
              "      <td>electric_bike</td>\n",
              "      <td>2022-11-01 20:58:10</td>\n",
              "      <td>2022-11-01 20:58:11</td>\n",
              "      <td>member</td>\n",
              "      <td>0.02</td>\n",
              "    </tr>\n",
              "    <tr>\n",
              "      <th>6744</th>\n",
              "      <td>A835CE839FF8EF8F</td>\n",
              "      <td>electric_bike</td>\n",
              "      <td>2023-01-10 06:42:16</td>\n",
              "      <td>2023-01-10 06:42:17</td>\n",
              "      <td>member</td>\n",
              "      <td>0.02</td>\n",
              "    </tr>\n",
              "    <tr>\n",
              "      <th>...</th>\n",
              "      <td>...</td>\n",
              "      <td>...</td>\n",
              "      <td>...</td>\n",
              "      <td>...</td>\n",
              "      <td>...</td>\n",
              "      <td>...</td>\n",
              "    </tr>\n",
              "    <tr>\n",
              "      <th>10882</th>\n",
              "      <td>DFD2D8549F460DB5</td>\n",
              "      <td>docked_bike</td>\n",
              "      <td>2022-09-17 19:46:33</td>\n",
              "      <td>2022-10-01 18:51:47</td>\n",
              "      <td>casual</td>\n",
              "      <td>20,105.23</td>\n",
              "    </tr>\n",
              "    <tr>\n",
              "      <th>28812</th>\n",
              "      <td>C1C12A2351E93FC4</td>\n",
              "      <td>docked_bike</td>\n",
              "      <td>2022-09-17 10:19:23</td>\n",
              "      <td>2022-10-01 18:34:29</td>\n",
              "      <td>casual</td>\n",
              "      <td>20,655.10</td>\n",
              "    </tr>\n",
              "    <tr>\n",
              "      <th>13885</th>\n",
              "      <td>B554C12730AFA9C3</td>\n",
              "      <td>docked_bike</td>\n",
              "      <td>2023-05-14 14:33:37</td>\n",
              "      <td>2023-05-30 04:50:43</td>\n",
              "      <td>casual</td>\n",
              "      <td>22,457.10</td>\n",
              "    </tr>\n",
              "    <tr>\n",
              "      <th>6839</th>\n",
              "      <td>38A41BB0F2B8F37C</td>\n",
              "      <td>docked_bike</td>\n",
              "      <td>2023-05-05 21:53:14</td>\n",
              "      <td>2023-05-26 04:43:45</td>\n",
              "      <td>casual</td>\n",
              "      <td>29,210.52</td>\n",
              "    </tr>\n",
              "    <tr>\n",
              "      <th>72088</th>\n",
              "      <td>307CA01BAE3CC7E3</td>\n",
              "      <td>docked_bike</td>\n",
              "      <td>2023-01-08 11:08:52</td>\n",
              "      <td>2023-01-31 19:12:36</td>\n",
              "      <td>casual</td>\n",
              "      <td>33,603.73</td>\n",
              "    </tr>\n",
              "  </tbody>\n",
              "</table>\n",
              "<p>868524 rows × 6 columns</p>\n",
              "</div>\n",
              "    <div class=\"colab-df-buttons\">\n",
              "\n",
              "  <div class=\"colab-df-container\">\n",
              "    <button class=\"colab-df-convert\" onclick=\"convertToInteractive('df-00c87115-2669-462d-8d12-d71c57635409')\"\n",
              "            title=\"Convert this dataframe to an interactive table.\"\n",
              "            style=\"display:none;\">\n",
              "\n",
              "  <svg xmlns=\"http://www.w3.org/2000/svg\" height=\"24px\" viewBox=\"0 -960 960 960\">\n",
              "    <path d=\"M120-120v-720h720v720H120Zm60-500h600v-160H180v160Zm220 220h160v-160H400v160Zm0 220h160v-160H400v160ZM180-400h160v-160H180v160Zm440 0h160v-160H620v160ZM180-180h160v-160H180v160Zm440 0h160v-160H620v160Z\"/>\n",
              "  </svg>\n",
              "    </button>\n",
              "\n",
              "  <style>\n",
              "    .colab-df-container {\n",
              "      display:flex;\n",
              "      gap: 12px;\n",
              "    }\n",
              "\n",
              "    .colab-df-convert {\n",
              "      background-color: #E8F0FE;\n",
              "      border: none;\n",
              "      border-radius: 50%;\n",
              "      cursor: pointer;\n",
              "      display: none;\n",
              "      fill: #1967D2;\n",
              "      height: 32px;\n",
              "      padding: 0 0 0 0;\n",
              "      width: 32px;\n",
              "    }\n",
              "\n",
              "    .colab-df-convert:hover {\n",
              "      background-color: #E2EBFA;\n",
              "      box-shadow: 0px 1px 2px rgba(60, 64, 67, 0.3), 0px 1px 3px 1px rgba(60, 64, 67, 0.15);\n",
              "      fill: #174EA6;\n",
              "    }\n",
              "\n",
              "    .colab-df-buttons div {\n",
              "      margin-bottom: 4px;\n",
              "    }\n",
              "\n",
              "    [theme=dark] .colab-df-convert {\n",
              "      background-color: #3B4455;\n",
              "      fill: #D2E3FC;\n",
              "    }\n",
              "\n",
              "    [theme=dark] .colab-df-convert:hover {\n",
              "      background-color: #434B5C;\n",
              "      box-shadow: 0px 1px 3px 1px rgba(0, 0, 0, 0.15);\n",
              "      filter: drop-shadow(0px 1px 2px rgba(0, 0, 0, 0.3));\n",
              "      fill: #FFFFFF;\n",
              "    }\n",
              "  </style>\n",
              "\n",
              "    <script>\n",
              "      const buttonEl =\n",
              "        document.querySelector('#df-00c87115-2669-462d-8d12-d71c57635409 button.colab-df-convert');\n",
              "      buttonEl.style.display =\n",
              "        google.colab.kernel.accessAllowed ? 'block' : 'none';\n",
              "\n",
              "      async function convertToInteractive(key) {\n",
              "        const element = document.querySelector('#df-00c87115-2669-462d-8d12-d71c57635409');\n",
              "        const dataTable =\n",
              "          await google.colab.kernel.invokeFunction('convertToInteractive',\n",
              "                                                    [key], {});\n",
              "        if (!dataTable) return;\n",
              "\n",
              "        const docLinkHtml = 'Like what you see? Visit the ' +\n",
              "          '<a target=\"_blank\" href=https://colab.research.google.com/notebooks/data_table.ipynb>data table notebook</a>'\n",
              "          + ' to learn more about interactive tables.';\n",
              "        element.innerHTML = '';\n",
              "        dataTable['output_type'] = 'display_data';\n",
              "        await google.colab.output.renderOutput(dataTable, element);\n",
              "        const docLink = document.createElement('div');\n",
              "        docLink.innerHTML = docLinkHtml;\n",
              "        element.appendChild(docLink);\n",
              "      }\n",
              "    </script>\n",
              "  </div>\n",
              "\n",
              "\n",
              "<div id=\"df-5fec8c07-c17a-4831-aafd-b8e69fd8d660\">\n",
              "  <button class=\"colab-df-quickchart\" onclick=\"quickchart('df-5fec8c07-c17a-4831-aafd-b8e69fd8d660')\"\n",
              "            title=\"Suggest charts.\"\n",
              "            style=\"display:none;\">\n",
              "\n",
              "<svg xmlns=\"http://www.w3.org/2000/svg\" height=\"24px\"viewBox=\"0 0 24 24\"\n",
              "     width=\"24px\">\n",
              "    <g>\n",
              "        <path d=\"M19 3H5c-1.1 0-2 .9-2 2v14c0 1.1.9 2 2 2h14c1.1 0 2-.9 2-2V5c0-1.1-.9-2-2-2zM9 17H7v-7h2v7zm4 0h-2V7h2v10zm4 0h-2v-4h2v4z\"/>\n",
              "    </g>\n",
              "</svg>\n",
              "  </button>\n",
              "\n",
              "<style>\n",
              "  .colab-df-quickchart {\n",
              "      --bg-color: #E8F0FE;\n",
              "      --fill-color: #1967D2;\n",
              "      --hover-bg-color: #E2EBFA;\n",
              "      --hover-fill-color: #174EA6;\n",
              "      --disabled-fill-color: #AAA;\n",
              "      --disabled-bg-color: #DDD;\n",
              "  }\n",
              "\n",
              "  [theme=dark] .colab-df-quickchart {\n",
              "      --bg-color: #3B4455;\n",
              "      --fill-color: #D2E3FC;\n",
              "      --hover-bg-color: #434B5C;\n",
              "      --hover-fill-color: #FFFFFF;\n",
              "      --disabled-bg-color: #3B4455;\n",
              "      --disabled-fill-color: #666;\n",
              "  }\n",
              "\n",
              "  .colab-df-quickchart {\n",
              "    background-color: var(--bg-color);\n",
              "    border: none;\n",
              "    border-radius: 50%;\n",
              "    cursor: pointer;\n",
              "    display: none;\n",
              "    fill: var(--fill-color);\n",
              "    height: 32px;\n",
              "    padding: 0;\n",
              "    width: 32px;\n",
              "  }\n",
              "\n",
              "  .colab-df-quickchart:hover {\n",
              "    background-color: var(--hover-bg-color);\n",
              "    box-shadow: 0 1px 2px rgba(60, 64, 67, 0.3), 0 1px 3px 1px rgba(60, 64, 67, 0.15);\n",
              "    fill: var(--button-hover-fill-color);\n",
              "  }\n",
              "\n",
              "  .colab-df-quickchart-complete:disabled,\n",
              "  .colab-df-quickchart-complete:disabled:hover {\n",
              "    background-color: var(--disabled-bg-color);\n",
              "    fill: var(--disabled-fill-color);\n",
              "    box-shadow: none;\n",
              "  }\n",
              "\n",
              "  .colab-df-spinner {\n",
              "    border: 2px solid var(--fill-color);\n",
              "    border-color: transparent;\n",
              "    border-bottom-color: var(--fill-color);\n",
              "    animation:\n",
              "      spin 1s steps(1) infinite;\n",
              "  }\n",
              "\n",
              "  @keyframes spin {\n",
              "    0% {\n",
              "      border-color: transparent;\n",
              "      border-bottom-color: var(--fill-color);\n",
              "      border-left-color: var(--fill-color);\n",
              "    }\n",
              "    20% {\n",
              "      border-color: transparent;\n",
              "      border-left-color: var(--fill-color);\n",
              "      border-top-color: var(--fill-color);\n",
              "    }\n",
              "    30% {\n",
              "      border-color: transparent;\n",
              "      border-left-color: var(--fill-color);\n",
              "      border-top-color: var(--fill-color);\n",
              "      border-right-color: var(--fill-color);\n",
              "    }\n",
              "    40% {\n",
              "      border-color: transparent;\n",
              "      border-right-color: var(--fill-color);\n",
              "      border-top-color: var(--fill-color);\n",
              "    }\n",
              "    60% {\n",
              "      border-color: transparent;\n",
              "      border-right-color: var(--fill-color);\n",
              "    }\n",
              "    80% {\n",
              "      border-color: transparent;\n",
              "      border-right-color: var(--fill-color);\n",
              "      border-bottom-color: var(--fill-color);\n",
              "    }\n",
              "    90% {\n",
              "      border-color: transparent;\n",
              "      border-bottom-color: var(--fill-color);\n",
              "    }\n",
              "  }\n",
              "</style>\n",
              "\n",
              "  <script>\n",
              "    async function quickchart(key) {\n",
              "      const quickchartButtonEl =\n",
              "        document.querySelector('#' + key + ' button');\n",
              "      quickchartButtonEl.disabled = true;  // To prevent multiple clicks.\n",
              "      quickchartButtonEl.classList.add('colab-df-spinner');\n",
              "      try {\n",
              "        const charts = await google.colab.kernel.invokeFunction(\n",
              "            'suggestCharts', [key], {});\n",
              "      } catch (error) {\n",
              "        console.error('Error during call to suggestCharts:', error);\n",
              "      }\n",
              "      quickchartButtonEl.classList.remove('colab-df-spinner');\n",
              "      quickchartButtonEl.classList.add('colab-df-quickchart-complete');\n",
              "    }\n",
              "    (() => {\n",
              "      let quickchartButtonEl =\n",
              "        document.querySelector('#df-5fec8c07-c17a-4831-aafd-b8e69fd8d660 button');\n",
              "      quickchartButtonEl.style.display =\n",
              "        google.colab.kernel.accessAllowed ? 'block' : 'none';\n",
              "    })();\n",
              "  </script>\n",
              "</div>\n",
              "    </div>\n",
              "  </div>\n"
            ]
          },
          "metadata": {},
          "execution_count": 27
        }
      ]
    },
    {
      "cell_type": "code",
      "source": [
        "# Add 'day_of_week' column (Monday=0, Sunday=6)\n",
        "cleaned_past_12_df['day_of_week'] = cleaned_past_12_df.start_time.dt.dayofweek\n",
        "\n",
        "# Check mode of 'day_of_week'\n",
        "cleaned_past_12_df.day_of_week.mode() # 3=Thursday"
      ],
      "metadata": {
        "colab": {
          "base_uri": "https://localhost:8080/"
        },
        "id": "P8y72UfQuUlw",
        "outputId": "ba3d10a6-3cf9-48d6-ab21-651f0be190ba"
      },
      "execution_count": 45,
      "outputs": [
        {
          "output_type": "stream",
          "name": "stdout",
          "text": [
            "0    3\n",
            "Name: day_of_week, dtype: int64\n"
          ]
        }
      ]
    },
    {
      "cell_type": "code",
      "source": [
        "# Find out which day of week has more riders\n",
        "# Thursday > Tuesday > Wednesday > Friday > Satruday > Monday > Sunday\n",
        "num_riders_by_day = cleaned_past_12_df.groupby(['day_of_week']).count()\n",
        "num_riders_by_day.sort_values(by=['ride_id'])"
      ],
      "metadata": {
        "colab": {
          "base_uri": "https://localhost:8080/",
          "height": 300
        },
        "id": "Fsa23LK4x3a0",
        "outputId": "a7db877e-6a72-4acf-8f33-d376c385440d"
      },
      "execution_count": 55,
      "outputs": [
        {
          "output_type": "execute_result",
          "data": {
            "text/plain": [
              "             ride_id  bike_type  start_time  end_time  user_type  \\\n",
              "day_of_week                                                        \n",
              "6             106277     106277      106277    106277     106277   \n",
              "0             116026     116026      116026    116026     116026   \n",
              "5             121929     121929      121929    121929     121929   \n",
              "4             126531     126531      126531    126531     126531   \n",
              "2             131221     131221      131221    131221     131221   \n",
              "1             131986     131986      131986    131986     131986   \n",
              "3             134554     134554      134554    134554     134554   \n",
              "\n",
              "             ride_duration  \n",
              "day_of_week                 \n",
              "6                   106277  \n",
              "0                   116026  \n",
              "5                   121929  \n",
              "4                   126531  \n",
              "2                   131221  \n",
              "1                   131986  \n",
              "3                   134554  "
            ],
            "text/html": [
              "\n",
              "  <div id=\"df-f47b5e78-75da-48fe-bdea-f15c1f7a1dd3\" class=\"colab-df-container\">\n",
              "    <div>\n",
              "<style scoped>\n",
              "    .dataframe tbody tr th:only-of-type {\n",
              "        vertical-align: middle;\n",
              "    }\n",
              "\n",
              "    .dataframe tbody tr th {\n",
              "        vertical-align: top;\n",
              "    }\n",
              "\n",
              "    .dataframe thead th {\n",
              "        text-align: right;\n",
              "    }\n",
              "</style>\n",
              "<table border=\"1\" class=\"dataframe\">\n",
              "  <thead>\n",
              "    <tr style=\"text-align: right;\">\n",
              "      <th></th>\n",
              "      <th>ride_id</th>\n",
              "      <th>bike_type</th>\n",
              "      <th>start_time</th>\n",
              "      <th>end_time</th>\n",
              "      <th>user_type</th>\n",
              "      <th>ride_duration</th>\n",
              "    </tr>\n",
              "    <tr>\n",
              "      <th>day_of_week</th>\n",
              "      <th></th>\n",
              "      <th></th>\n",
              "      <th></th>\n",
              "      <th></th>\n",
              "      <th></th>\n",
              "      <th></th>\n",
              "    </tr>\n",
              "  </thead>\n",
              "  <tbody>\n",
              "    <tr>\n",
              "      <th>6</th>\n",
              "      <td>106277</td>\n",
              "      <td>106277</td>\n",
              "      <td>106277</td>\n",
              "      <td>106277</td>\n",
              "      <td>106277</td>\n",
              "      <td>106277</td>\n",
              "    </tr>\n",
              "    <tr>\n",
              "      <th>0</th>\n",
              "      <td>116026</td>\n",
              "      <td>116026</td>\n",
              "      <td>116026</td>\n",
              "      <td>116026</td>\n",
              "      <td>116026</td>\n",
              "      <td>116026</td>\n",
              "    </tr>\n",
              "    <tr>\n",
              "      <th>5</th>\n",
              "      <td>121929</td>\n",
              "      <td>121929</td>\n",
              "      <td>121929</td>\n",
              "      <td>121929</td>\n",
              "      <td>121929</td>\n",
              "      <td>121929</td>\n",
              "    </tr>\n",
              "    <tr>\n",
              "      <th>4</th>\n",
              "      <td>126531</td>\n",
              "      <td>126531</td>\n",
              "      <td>126531</td>\n",
              "      <td>126531</td>\n",
              "      <td>126531</td>\n",
              "      <td>126531</td>\n",
              "    </tr>\n",
              "    <tr>\n",
              "      <th>2</th>\n",
              "      <td>131221</td>\n",
              "      <td>131221</td>\n",
              "      <td>131221</td>\n",
              "      <td>131221</td>\n",
              "      <td>131221</td>\n",
              "      <td>131221</td>\n",
              "    </tr>\n",
              "    <tr>\n",
              "      <th>1</th>\n",
              "      <td>131986</td>\n",
              "      <td>131986</td>\n",
              "      <td>131986</td>\n",
              "      <td>131986</td>\n",
              "      <td>131986</td>\n",
              "      <td>131986</td>\n",
              "    </tr>\n",
              "    <tr>\n",
              "      <th>3</th>\n",
              "      <td>134554</td>\n",
              "      <td>134554</td>\n",
              "      <td>134554</td>\n",
              "      <td>134554</td>\n",
              "      <td>134554</td>\n",
              "      <td>134554</td>\n",
              "    </tr>\n",
              "  </tbody>\n",
              "</table>\n",
              "</div>\n",
              "    <div class=\"colab-df-buttons\">\n",
              "\n",
              "  <div class=\"colab-df-container\">\n",
              "    <button class=\"colab-df-convert\" onclick=\"convertToInteractive('df-f47b5e78-75da-48fe-bdea-f15c1f7a1dd3')\"\n",
              "            title=\"Convert this dataframe to an interactive table.\"\n",
              "            style=\"display:none;\">\n",
              "\n",
              "  <svg xmlns=\"http://www.w3.org/2000/svg\" height=\"24px\" viewBox=\"0 -960 960 960\">\n",
              "    <path d=\"M120-120v-720h720v720H120Zm60-500h600v-160H180v160Zm220 220h160v-160H400v160Zm0 220h160v-160H400v160ZM180-400h160v-160H180v160Zm440 0h160v-160H620v160ZM180-180h160v-160H180v160Zm440 0h160v-160H620v160Z\"/>\n",
              "  </svg>\n",
              "    </button>\n",
              "\n",
              "  <style>\n",
              "    .colab-df-container {\n",
              "      display:flex;\n",
              "      gap: 12px;\n",
              "    }\n",
              "\n",
              "    .colab-df-convert {\n",
              "      background-color: #E8F0FE;\n",
              "      border: none;\n",
              "      border-radius: 50%;\n",
              "      cursor: pointer;\n",
              "      display: none;\n",
              "      fill: #1967D2;\n",
              "      height: 32px;\n",
              "      padding: 0 0 0 0;\n",
              "      width: 32px;\n",
              "    }\n",
              "\n",
              "    .colab-df-convert:hover {\n",
              "      background-color: #E2EBFA;\n",
              "      box-shadow: 0px 1px 2px rgba(60, 64, 67, 0.3), 0px 1px 3px 1px rgba(60, 64, 67, 0.15);\n",
              "      fill: #174EA6;\n",
              "    }\n",
              "\n",
              "    .colab-df-buttons div {\n",
              "      margin-bottom: 4px;\n",
              "    }\n",
              "\n",
              "    [theme=dark] .colab-df-convert {\n",
              "      background-color: #3B4455;\n",
              "      fill: #D2E3FC;\n",
              "    }\n",
              "\n",
              "    [theme=dark] .colab-df-convert:hover {\n",
              "      background-color: #434B5C;\n",
              "      box-shadow: 0px 1px 3px 1px rgba(0, 0, 0, 0.15);\n",
              "      filter: drop-shadow(0px 1px 2px rgba(0, 0, 0, 0.3));\n",
              "      fill: #FFFFFF;\n",
              "    }\n",
              "  </style>\n",
              "\n",
              "    <script>\n",
              "      const buttonEl =\n",
              "        document.querySelector('#df-f47b5e78-75da-48fe-bdea-f15c1f7a1dd3 button.colab-df-convert');\n",
              "      buttonEl.style.display =\n",
              "        google.colab.kernel.accessAllowed ? 'block' : 'none';\n",
              "\n",
              "      async function convertToInteractive(key) {\n",
              "        const element = document.querySelector('#df-f47b5e78-75da-48fe-bdea-f15c1f7a1dd3');\n",
              "        const dataTable =\n",
              "          await google.colab.kernel.invokeFunction('convertToInteractive',\n",
              "                                                    [key], {});\n",
              "        if (!dataTable) return;\n",
              "\n",
              "        const docLinkHtml = 'Like what you see? Visit the ' +\n",
              "          '<a target=\"_blank\" href=https://colab.research.google.com/notebooks/data_table.ipynb>data table notebook</a>'\n",
              "          + ' to learn more about interactive tables.';\n",
              "        element.innerHTML = '';\n",
              "        dataTable['output_type'] = 'display_data';\n",
              "        await google.colab.output.renderOutput(dataTable, element);\n",
              "        const docLink = document.createElement('div');\n",
              "        docLink.innerHTML = docLinkHtml;\n",
              "        element.appendChild(docLink);\n",
              "      }\n",
              "    </script>\n",
              "  </div>\n",
              "\n",
              "\n",
              "<div id=\"df-ec0ab926-9a76-4208-84d1-bfc3b9a2db6d\">\n",
              "  <button class=\"colab-df-quickchart\" onclick=\"quickchart('df-ec0ab926-9a76-4208-84d1-bfc3b9a2db6d')\"\n",
              "            title=\"Suggest charts.\"\n",
              "            style=\"display:none;\">\n",
              "\n",
              "<svg xmlns=\"http://www.w3.org/2000/svg\" height=\"24px\"viewBox=\"0 0 24 24\"\n",
              "     width=\"24px\">\n",
              "    <g>\n",
              "        <path d=\"M19 3H5c-1.1 0-2 .9-2 2v14c0 1.1.9 2 2 2h14c1.1 0 2-.9 2-2V5c0-1.1-.9-2-2-2zM9 17H7v-7h2v7zm4 0h-2V7h2v10zm4 0h-2v-4h2v4z\"/>\n",
              "    </g>\n",
              "</svg>\n",
              "  </button>\n",
              "\n",
              "<style>\n",
              "  .colab-df-quickchart {\n",
              "      --bg-color: #E8F0FE;\n",
              "      --fill-color: #1967D2;\n",
              "      --hover-bg-color: #E2EBFA;\n",
              "      --hover-fill-color: #174EA6;\n",
              "      --disabled-fill-color: #AAA;\n",
              "      --disabled-bg-color: #DDD;\n",
              "  }\n",
              "\n",
              "  [theme=dark] .colab-df-quickchart {\n",
              "      --bg-color: #3B4455;\n",
              "      --fill-color: #D2E3FC;\n",
              "      --hover-bg-color: #434B5C;\n",
              "      --hover-fill-color: #FFFFFF;\n",
              "      --disabled-bg-color: #3B4455;\n",
              "      --disabled-fill-color: #666;\n",
              "  }\n",
              "\n",
              "  .colab-df-quickchart {\n",
              "    background-color: var(--bg-color);\n",
              "    border: none;\n",
              "    border-radius: 50%;\n",
              "    cursor: pointer;\n",
              "    display: none;\n",
              "    fill: var(--fill-color);\n",
              "    height: 32px;\n",
              "    padding: 0;\n",
              "    width: 32px;\n",
              "  }\n",
              "\n",
              "  .colab-df-quickchart:hover {\n",
              "    background-color: var(--hover-bg-color);\n",
              "    box-shadow: 0 1px 2px rgba(60, 64, 67, 0.3), 0 1px 3px 1px rgba(60, 64, 67, 0.15);\n",
              "    fill: var(--button-hover-fill-color);\n",
              "  }\n",
              "\n",
              "  .colab-df-quickchart-complete:disabled,\n",
              "  .colab-df-quickchart-complete:disabled:hover {\n",
              "    background-color: var(--disabled-bg-color);\n",
              "    fill: var(--disabled-fill-color);\n",
              "    box-shadow: none;\n",
              "  }\n",
              "\n",
              "  .colab-df-spinner {\n",
              "    border: 2px solid var(--fill-color);\n",
              "    border-color: transparent;\n",
              "    border-bottom-color: var(--fill-color);\n",
              "    animation:\n",
              "      spin 1s steps(1) infinite;\n",
              "  }\n",
              "\n",
              "  @keyframes spin {\n",
              "    0% {\n",
              "      border-color: transparent;\n",
              "      border-bottom-color: var(--fill-color);\n",
              "      border-left-color: var(--fill-color);\n",
              "    }\n",
              "    20% {\n",
              "      border-color: transparent;\n",
              "      border-left-color: var(--fill-color);\n",
              "      border-top-color: var(--fill-color);\n",
              "    }\n",
              "    30% {\n",
              "      border-color: transparent;\n",
              "      border-left-color: var(--fill-color);\n",
              "      border-top-color: var(--fill-color);\n",
              "      border-right-color: var(--fill-color);\n",
              "    }\n",
              "    40% {\n",
              "      border-color: transparent;\n",
              "      border-right-color: var(--fill-color);\n",
              "      border-top-color: var(--fill-color);\n",
              "    }\n",
              "    60% {\n",
              "      border-color: transparent;\n",
              "      border-right-color: var(--fill-color);\n",
              "    }\n",
              "    80% {\n",
              "      border-color: transparent;\n",
              "      border-right-color: var(--fill-color);\n",
              "      border-bottom-color: var(--fill-color);\n",
              "    }\n",
              "    90% {\n",
              "      border-color: transparent;\n",
              "      border-bottom-color: var(--fill-color);\n",
              "    }\n",
              "  }\n",
              "</style>\n",
              "\n",
              "  <script>\n",
              "    async function quickchart(key) {\n",
              "      const quickchartButtonEl =\n",
              "        document.querySelector('#' + key + ' button');\n",
              "      quickchartButtonEl.disabled = true;  // To prevent multiple clicks.\n",
              "      quickchartButtonEl.classList.add('colab-df-spinner');\n",
              "      try {\n",
              "        const charts = await google.colab.kernel.invokeFunction(\n",
              "            'suggestCharts', [key], {});\n",
              "      } catch (error) {\n",
              "        console.error('Error during call to suggestCharts:', error);\n",
              "      }\n",
              "      quickchartButtonEl.classList.remove('colab-df-spinner');\n",
              "      quickchartButtonEl.classList.add('colab-df-quickchart-complete');\n",
              "    }\n",
              "    (() => {\n",
              "      let quickchartButtonEl =\n",
              "        document.querySelector('#df-ec0ab926-9a76-4208-84d1-bfc3b9a2db6d button');\n",
              "      quickchartButtonEl.style.display =\n",
              "        google.colab.kernel.accessAllowed ? 'block' : 'none';\n",
              "    })();\n",
              "  </script>\n",
              "</div>\n",
              "    </div>\n",
              "  </div>\n"
            ]
          },
          "metadata": {},
          "execution_count": 55
        }
      ]
    },
    {
      "cell_type": "markdown",
      "source": [
        "**4.Explore data for member and casual users seperatly**"
      ],
      "metadata": {
        "id": "N_uzyMi1wglg"
      }
    },
    {
      "cell_type": "code",
      "source": [
        "member_only_df = cleaned_past_12_df[(cleaned_past_12_df['user_type'] == 'member')]\n",
        "member_only_df # shape (588597,6)\n",
        "member_only_df.day_of_week.mode() # 1=Tuesday"
      ],
      "metadata": {
        "colab": {
          "base_uri": "https://localhost:8080/"
        },
        "id": "n5-K8owMZQFX",
        "outputId": "03379c96-936a-4126-f195-af48fdd44195"
      },
      "execution_count": 47,
      "outputs": [
        {
          "output_type": "execute_result",
          "data": {
            "text/plain": [
              "0    1\n",
              "Name: day_of_week, dtype: int64"
            ]
          },
          "metadata": {},
          "execution_count": 47
        }
      ]
    },
    {
      "cell_type": "code",
      "source": [
        "# Average riding time for member users\n",
        "# About half of the average of the casual users\n",
        "avg_duration_m = member_only_df.ride_duration.sum()/588597\n",
        "print(avg_duration_m) # 11.4565..."
      ],
      "metadata": {
        "colab": {
          "base_uri": "https://localhost:8080/"
        },
        "id": "3hpFef_BZokY",
        "outputId": "0f0f2eea-5c32-487e-ada0-c7cf0025838c"
      },
      "execution_count": 34,
      "outputs": [
        {
          "output_type": "stream",
          "name": "stdout",
          "text": [
            "11.45650852790619\n"
          ]
        }
      ]
    },
    {
      "cell_type": "code",
      "source": [
        "# Find out which day of week has more riders\n",
        "# Tuesday > Wednesday > Thursday > Friday > Monday > Satruday > Sunday\n",
        "# More riders during the weekdays\n",
        "num_riders_by_day_member = member_only_df.groupby(['day_of_week']).count()\n",
        "num_riders_by_day_member.sort_values(by=['ride_id'])"
      ],
      "metadata": {
        "colab": {
          "base_uri": "https://localhost:8080/",
          "height": 300
        },
        "id": "4wJDaDtuzhqq",
        "outputId": "83aec66a-d481-449f-e919-bfb0462ceeff"
      },
      "execution_count": 56,
      "outputs": [
        {
          "output_type": "execute_result",
          "data": {
            "text/plain": [
              "             ride_id  bike_type  start_time  end_time  user_type  \\\n",
              "day_of_week                                                        \n",
              "6              63748      63748       63748     63748      63748   \n",
              "5              70538      70538       70538     70538      70538   \n",
              "0              83417      83417       83417     83417      83417   \n",
              "4              83481      83481       83481     83481      83481   \n",
              "3              95299      95299       95299     95299      95299   \n",
              "2              95593      95593       95593     95593      95593   \n",
              "1              96521      96521       96521     96521      96521   \n",
              "\n",
              "             ride_duration  \n",
              "day_of_week                 \n",
              "6                    63748  \n",
              "5                    70538  \n",
              "0                    83417  \n",
              "4                    83481  \n",
              "3                    95299  \n",
              "2                    95593  \n",
              "1                    96521  "
            ],
            "text/html": [
              "\n",
              "  <div id=\"df-c5d7717a-9ed0-425e-83c8-fa7c0e475625\" class=\"colab-df-container\">\n",
              "    <div>\n",
              "<style scoped>\n",
              "    .dataframe tbody tr th:only-of-type {\n",
              "        vertical-align: middle;\n",
              "    }\n",
              "\n",
              "    .dataframe tbody tr th {\n",
              "        vertical-align: top;\n",
              "    }\n",
              "\n",
              "    .dataframe thead th {\n",
              "        text-align: right;\n",
              "    }\n",
              "</style>\n",
              "<table border=\"1\" class=\"dataframe\">\n",
              "  <thead>\n",
              "    <tr style=\"text-align: right;\">\n",
              "      <th></th>\n",
              "      <th>ride_id</th>\n",
              "      <th>bike_type</th>\n",
              "      <th>start_time</th>\n",
              "      <th>end_time</th>\n",
              "      <th>user_type</th>\n",
              "      <th>ride_duration</th>\n",
              "    </tr>\n",
              "    <tr>\n",
              "      <th>day_of_week</th>\n",
              "      <th></th>\n",
              "      <th></th>\n",
              "      <th></th>\n",
              "      <th></th>\n",
              "      <th></th>\n",
              "      <th></th>\n",
              "    </tr>\n",
              "  </thead>\n",
              "  <tbody>\n",
              "    <tr>\n",
              "      <th>6</th>\n",
              "      <td>63748</td>\n",
              "      <td>63748</td>\n",
              "      <td>63748</td>\n",
              "      <td>63748</td>\n",
              "      <td>63748</td>\n",
              "      <td>63748</td>\n",
              "    </tr>\n",
              "    <tr>\n",
              "      <th>5</th>\n",
              "      <td>70538</td>\n",
              "      <td>70538</td>\n",
              "      <td>70538</td>\n",
              "      <td>70538</td>\n",
              "      <td>70538</td>\n",
              "      <td>70538</td>\n",
              "    </tr>\n",
              "    <tr>\n",
              "      <th>0</th>\n",
              "      <td>83417</td>\n",
              "      <td>83417</td>\n",
              "      <td>83417</td>\n",
              "      <td>83417</td>\n",
              "      <td>83417</td>\n",
              "      <td>83417</td>\n",
              "    </tr>\n",
              "    <tr>\n",
              "      <th>4</th>\n",
              "      <td>83481</td>\n",
              "      <td>83481</td>\n",
              "      <td>83481</td>\n",
              "      <td>83481</td>\n",
              "      <td>83481</td>\n",
              "      <td>83481</td>\n",
              "    </tr>\n",
              "    <tr>\n",
              "      <th>3</th>\n",
              "      <td>95299</td>\n",
              "      <td>95299</td>\n",
              "      <td>95299</td>\n",
              "      <td>95299</td>\n",
              "      <td>95299</td>\n",
              "      <td>95299</td>\n",
              "    </tr>\n",
              "    <tr>\n",
              "      <th>2</th>\n",
              "      <td>95593</td>\n",
              "      <td>95593</td>\n",
              "      <td>95593</td>\n",
              "      <td>95593</td>\n",
              "      <td>95593</td>\n",
              "      <td>95593</td>\n",
              "    </tr>\n",
              "    <tr>\n",
              "      <th>1</th>\n",
              "      <td>96521</td>\n",
              "      <td>96521</td>\n",
              "      <td>96521</td>\n",
              "      <td>96521</td>\n",
              "      <td>96521</td>\n",
              "      <td>96521</td>\n",
              "    </tr>\n",
              "  </tbody>\n",
              "</table>\n",
              "</div>\n",
              "    <div class=\"colab-df-buttons\">\n",
              "\n",
              "  <div class=\"colab-df-container\">\n",
              "    <button class=\"colab-df-convert\" onclick=\"convertToInteractive('df-c5d7717a-9ed0-425e-83c8-fa7c0e475625')\"\n",
              "            title=\"Convert this dataframe to an interactive table.\"\n",
              "            style=\"display:none;\">\n",
              "\n",
              "  <svg xmlns=\"http://www.w3.org/2000/svg\" height=\"24px\" viewBox=\"0 -960 960 960\">\n",
              "    <path d=\"M120-120v-720h720v720H120Zm60-500h600v-160H180v160Zm220 220h160v-160H400v160Zm0 220h160v-160H400v160ZM180-400h160v-160H180v160Zm440 0h160v-160H620v160ZM180-180h160v-160H180v160Zm440 0h160v-160H620v160Z\"/>\n",
              "  </svg>\n",
              "    </button>\n",
              "\n",
              "  <style>\n",
              "    .colab-df-container {\n",
              "      display:flex;\n",
              "      gap: 12px;\n",
              "    }\n",
              "\n",
              "    .colab-df-convert {\n",
              "      background-color: #E8F0FE;\n",
              "      border: none;\n",
              "      border-radius: 50%;\n",
              "      cursor: pointer;\n",
              "      display: none;\n",
              "      fill: #1967D2;\n",
              "      height: 32px;\n",
              "      padding: 0 0 0 0;\n",
              "      width: 32px;\n",
              "    }\n",
              "\n",
              "    .colab-df-convert:hover {\n",
              "      background-color: #E2EBFA;\n",
              "      box-shadow: 0px 1px 2px rgba(60, 64, 67, 0.3), 0px 1px 3px 1px rgba(60, 64, 67, 0.15);\n",
              "      fill: #174EA6;\n",
              "    }\n",
              "\n",
              "    .colab-df-buttons div {\n",
              "      margin-bottom: 4px;\n",
              "    }\n",
              "\n",
              "    [theme=dark] .colab-df-convert {\n",
              "      background-color: #3B4455;\n",
              "      fill: #D2E3FC;\n",
              "    }\n",
              "\n",
              "    [theme=dark] .colab-df-convert:hover {\n",
              "      background-color: #434B5C;\n",
              "      box-shadow: 0px 1px 3px 1px rgba(0, 0, 0, 0.15);\n",
              "      filter: drop-shadow(0px 1px 2px rgba(0, 0, 0, 0.3));\n",
              "      fill: #FFFFFF;\n",
              "    }\n",
              "  </style>\n",
              "\n",
              "    <script>\n",
              "      const buttonEl =\n",
              "        document.querySelector('#df-c5d7717a-9ed0-425e-83c8-fa7c0e475625 button.colab-df-convert');\n",
              "      buttonEl.style.display =\n",
              "        google.colab.kernel.accessAllowed ? 'block' : 'none';\n",
              "\n",
              "      async function convertToInteractive(key) {\n",
              "        const element = document.querySelector('#df-c5d7717a-9ed0-425e-83c8-fa7c0e475625');\n",
              "        const dataTable =\n",
              "          await google.colab.kernel.invokeFunction('convertToInteractive',\n",
              "                                                    [key], {});\n",
              "        if (!dataTable) return;\n",
              "\n",
              "        const docLinkHtml = 'Like what you see? Visit the ' +\n",
              "          '<a target=\"_blank\" href=https://colab.research.google.com/notebooks/data_table.ipynb>data table notebook</a>'\n",
              "          + ' to learn more about interactive tables.';\n",
              "        element.innerHTML = '';\n",
              "        dataTable['output_type'] = 'display_data';\n",
              "        await google.colab.output.renderOutput(dataTable, element);\n",
              "        const docLink = document.createElement('div');\n",
              "        docLink.innerHTML = docLinkHtml;\n",
              "        element.appendChild(docLink);\n",
              "      }\n",
              "    </script>\n",
              "  </div>\n",
              "\n",
              "\n",
              "<div id=\"df-1b1d6fc8-5f7b-4b2c-91c6-45ef0470539d\">\n",
              "  <button class=\"colab-df-quickchart\" onclick=\"quickchart('df-1b1d6fc8-5f7b-4b2c-91c6-45ef0470539d')\"\n",
              "            title=\"Suggest charts.\"\n",
              "            style=\"display:none;\">\n",
              "\n",
              "<svg xmlns=\"http://www.w3.org/2000/svg\" height=\"24px\"viewBox=\"0 0 24 24\"\n",
              "     width=\"24px\">\n",
              "    <g>\n",
              "        <path d=\"M19 3H5c-1.1 0-2 .9-2 2v14c0 1.1.9 2 2 2h14c1.1 0 2-.9 2-2V5c0-1.1-.9-2-2-2zM9 17H7v-7h2v7zm4 0h-2V7h2v10zm4 0h-2v-4h2v4z\"/>\n",
              "    </g>\n",
              "</svg>\n",
              "  </button>\n",
              "\n",
              "<style>\n",
              "  .colab-df-quickchart {\n",
              "      --bg-color: #E8F0FE;\n",
              "      --fill-color: #1967D2;\n",
              "      --hover-bg-color: #E2EBFA;\n",
              "      --hover-fill-color: #174EA6;\n",
              "      --disabled-fill-color: #AAA;\n",
              "      --disabled-bg-color: #DDD;\n",
              "  }\n",
              "\n",
              "  [theme=dark] .colab-df-quickchart {\n",
              "      --bg-color: #3B4455;\n",
              "      --fill-color: #D2E3FC;\n",
              "      --hover-bg-color: #434B5C;\n",
              "      --hover-fill-color: #FFFFFF;\n",
              "      --disabled-bg-color: #3B4455;\n",
              "      --disabled-fill-color: #666;\n",
              "  }\n",
              "\n",
              "  .colab-df-quickchart {\n",
              "    background-color: var(--bg-color);\n",
              "    border: none;\n",
              "    border-radius: 50%;\n",
              "    cursor: pointer;\n",
              "    display: none;\n",
              "    fill: var(--fill-color);\n",
              "    height: 32px;\n",
              "    padding: 0;\n",
              "    width: 32px;\n",
              "  }\n",
              "\n",
              "  .colab-df-quickchart:hover {\n",
              "    background-color: var(--hover-bg-color);\n",
              "    box-shadow: 0 1px 2px rgba(60, 64, 67, 0.3), 0 1px 3px 1px rgba(60, 64, 67, 0.15);\n",
              "    fill: var(--button-hover-fill-color);\n",
              "  }\n",
              "\n",
              "  .colab-df-quickchart-complete:disabled,\n",
              "  .colab-df-quickchart-complete:disabled:hover {\n",
              "    background-color: var(--disabled-bg-color);\n",
              "    fill: var(--disabled-fill-color);\n",
              "    box-shadow: none;\n",
              "  }\n",
              "\n",
              "  .colab-df-spinner {\n",
              "    border: 2px solid var(--fill-color);\n",
              "    border-color: transparent;\n",
              "    border-bottom-color: var(--fill-color);\n",
              "    animation:\n",
              "      spin 1s steps(1) infinite;\n",
              "  }\n",
              "\n",
              "  @keyframes spin {\n",
              "    0% {\n",
              "      border-color: transparent;\n",
              "      border-bottom-color: var(--fill-color);\n",
              "      border-left-color: var(--fill-color);\n",
              "    }\n",
              "    20% {\n",
              "      border-color: transparent;\n",
              "      border-left-color: var(--fill-color);\n",
              "      border-top-color: var(--fill-color);\n",
              "    }\n",
              "    30% {\n",
              "      border-color: transparent;\n",
              "      border-left-color: var(--fill-color);\n",
              "      border-top-color: var(--fill-color);\n",
              "      border-right-color: var(--fill-color);\n",
              "    }\n",
              "    40% {\n",
              "      border-color: transparent;\n",
              "      border-right-color: var(--fill-color);\n",
              "      border-top-color: var(--fill-color);\n",
              "    }\n",
              "    60% {\n",
              "      border-color: transparent;\n",
              "      border-right-color: var(--fill-color);\n",
              "    }\n",
              "    80% {\n",
              "      border-color: transparent;\n",
              "      border-right-color: var(--fill-color);\n",
              "      border-bottom-color: var(--fill-color);\n",
              "    }\n",
              "    90% {\n",
              "      border-color: transparent;\n",
              "      border-bottom-color: var(--fill-color);\n",
              "    }\n",
              "  }\n",
              "</style>\n",
              "\n",
              "  <script>\n",
              "    async function quickchart(key) {\n",
              "      const quickchartButtonEl =\n",
              "        document.querySelector('#' + key + ' button');\n",
              "      quickchartButtonEl.disabled = true;  // To prevent multiple clicks.\n",
              "      quickchartButtonEl.classList.add('colab-df-spinner');\n",
              "      try {\n",
              "        const charts = await google.colab.kernel.invokeFunction(\n",
              "            'suggestCharts', [key], {});\n",
              "      } catch (error) {\n",
              "        console.error('Error during call to suggestCharts:', error);\n",
              "      }\n",
              "      quickchartButtonEl.classList.remove('colab-df-spinner');\n",
              "      quickchartButtonEl.classList.add('colab-df-quickchart-complete');\n",
              "    }\n",
              "    (() => {\n",
              "      let quickchartButtonEl =\n",
              "        document.querySelector('#df-1b1d6fc8-5f7b-4b2c-91c6-45ef0470539d button');\n",
              "      quickchartButtonEl.style.display =\n",
              "        google.colab.kernel.accessAllowed ? 'block' : 'none';\n",
              "    })();\n",
              "  </script>\n",
              "</div>\n",
              "    </div>\n",
              "  </div>\n"
            ]
          },
          "metadata": {},
          "execution_count": 56
        }
      ]
    },
    {
      "cell_type": "code",
      "source": [
        "temp_only_df = cleaned_past_12_df[(cleaned_past_12_df['user_type'] == 'casual')]\n",
        "temp_only_df # shape (279927, 6)\n",
        "temp_only_df.day_of_week.mode() # 5=Saturday"
      ],
      "metadata": {
        "colab": {
          "base_uri": "https://localhost:8080/"
        },
        "id": "mdcb6-JldbEA",
        "outputId": "96eb6427-eeae-4485-e859-6c6132c08749"
      },
      "execution_count": 49,
      "outputs": [
        {
          "output_type": "execute_result",
          "data": {
            "text/plain": [
              "0    5\n",
              "Name: day_of_week, dtype: int64"
            ]
          },
          "metadata": {},
          "execution_count": 49
        }
      ]
    },
    {
      "cell_type": "code",
      "source": [
        "# Average riding time for casual users\n",
        "# About double of the average of the member users\n",
        "avg_duration_t = temp_only_df.ride_duration.sum()/ 279927\n",
        "print(avg_duration_t) # 22.2444..."
      ],
      "metadata": {
        "colab": {
          "base_uri": "https://localhost:8080/"
        },
        "id": "Tbo4IUkBdzd6",
        "outputId": "1fab6317-29b5-4a77-a214-8431a16c9d55"
      },
      "execution_count": 35,
      "outputs": [
        {
          "output_type": "stream",
          "name": "stdout",
          "text": [
            "22.244479572650487\n"
          ]
        }
      ]
    },
    {
      "cell_type": "code",
      "source": [
        "# Find out which day of week has more riders\n",
        "# Satruday > Friday > Sunday > Thursday > Wednesday > Tuesday >  Monday\n",
        "# More riders during the weekends\n",
        "num_riders_by_day_casual = temp_only_df.groupby(['day_of_week']).count()\n",
        "num_riders_by_day_casual.sort_values(by=['ride_id'])"
      ],
      "metadata": {
        "colab": {
          "base_uri": "https://localhost:8080/",
          "height": 300
        },
        "id": "gJAU0uo80B2h",
        "outputId": "7e8d694a-f548-417d-c5bd-2f6276948a55"
      },
      "execution_count": 57,
      "outputs": [
        {
          "output_type": "execute_result",
          "data": {
            "text/plain": [
              "             ride_id  bike_type  start_time  end_time  user_type  \\\n",
              "day_of_week                                                        \n",
              "0              32609      32609       32609     32609      32609   \n",
              "1              35465      35465       35465     35465      35465   \n",
              "2              35628      35628       35628     35628      35628   \n",
              "3              39255      39255       39255     39255      39255   \n",
              "6              42529      42529       42529     42529      42529   \n",
              "4              43050      43050       43050     43050      43050   \n",
              "5              51391      51391       51391     51391      51391   \n",
              "\n",
              "             ride_duration  \n",
              "day_of_week                 \n",
              "0                    32609  \n",
              "1                    35465  \n",
              "2                    35628  \n",
              "3                    39255  \n",
              "6                    42529  \n",
              "4                    43050  \n",
              "5                    51391  "
            ],
            "text/html": [
              "\n",
              "  <div id=\"df-52fb65e1-212d-4273-8f9d-078c3dc98065\" class=\"colab-df-container\">\n",
              "    <div>\n",
              "<style scoped>\n",
              "    .dataframe tbody tr th:only-of-type {\n",
              "        vertical-align: middle;\n",
              "    }\n",
              "\n",
              "    .dataframe tbody tr th {\n",
              "        vertical-align: top;\n",
              "    }\n",
              "\n",
              "    .dataframe thead th {\n",
              "        text-align: right;\n",
              "    }\n",
              "</style>\n",
              "<table border=\"1\" class=\"dataframe\">\n",
              "  <thead>\n",
              "    <tr style=\"text-align: right;\">\n",
              "      <th></th>\n",
              "      <th>ride_id</th>\n",
              "      <th>bike_type</th>\n",
              "      <th>start_time</th>\n",
              "      <th>end_time</th>\n",
              "      <th>user_type</th>\n",
              "      <th>ride_duration</th>\n",
              "    </tr>\n",
              "    <tr>\n",
              "      <th>day_of_week</th>\n",
              "      <th></th>\n",
              "      <th></th>\n",
              "      <th></th>\n",
              "      <th></th>\n",
              "      <th></th>\n",
              "      <th></th>\n",
              "    </tr>\n",
              "  </thead>\n",
              "  <tbody>\n",
              "    <tr>\n",
              "      <th>0</th>\n",
              "      <td>32609</td>\n",
              "      <td>32609</td>\n",
              "      <td>32609</td>\n",
              "      <td>32609</td>\n",
              "      <td>32609</td>\n",
              "      <td>32609</td>\n",
              "    </tr>\n",
              "    <tr>\n",
              "      <th>1</th>\n",
              "      <td>35465</td>\n",
              "      <td>35465</td>\n",
              "      <td>35465</td>\n",
              "      <td>35465</td>\n",
              "      <td>35465</td>\n",
              "      <td>35465</td>\n",
              "    </tr>\n",
              "    <tr>\n",
              "      <th>2</th>\n",
              "      <td>35628</td>\n",
              "      <td>35628</td>\n",
              "      <td>35628</td>\n",
              "      <td>35628</td>\n",
              "      <td>35628</td>\n",
              "      <td>35628</td>\n",
              "    </tr>\n",
              "    <tr>\n",
              "      <th>3</th>\n",
              "      <td>39255</td>\n",
              "      <td>39255</td>\n",
              "      <td>39255</td>\n",
              "      <td>39255</td>\n",
              "      <td>39255</td>\n",
              "      <td>39255</td>\n",
              "    </tr>\n",
              "    <tr>\n",
              "      <th>6</th>\n",
              "      <td>42529</td>\n",
              "      <td>42529</td>\n",
              "      <td>42529</td>\n",
              "      <td>42529</td>\n",
              "      <td>42529</td>\n",
              "      <td>42529</td>\n",
              "    </tr>\n",
              "    <tr>\n",
              "      <th>4</th>\n",
              "      <td>43050</td>\n",
              "      <td>43050</td>\n",
              "      <td>43050</td>\n",
              "      <td>43050</td>\n",
              "      <td>43050</td>\n",
              "      <td>43050</td>\n",
              "    </tr>\n",
              "    <tr>\n",
              "      <th>5</th>\n",
              "      <td>51391</td>\n",
              "      <td>51391</td>\n",
              "      <td>51391</td>\n",
              "      <td>51391</td>\n",
              "      <td>51391</td>\n",
              "      <td>51391</td>\n",
              "    </tr>\n",
              "  </tbody>\n",
              "</table>\n",
              "</div>\n",
              "    <div class=\"colab-df-buttons\">\n",
              "\n",
              "  <div class=\"colab-df-container\">\n",
              "    <button class=\"colab-df-convert\" onclick=\"convertToInteractive('df-52fb65e1-212d-4273-8f9d-078c3dc98065')\"\n",
              "            title=\"Convert this dataframe to an interactive table.\"\n",
              "            style=\"display:none;\">\n",
              "\n",
              "  <svg xmlns=\"http://www.w3.org/2000/svg\" height=\"24px\" viewBox=\"0 -960 960 960\">\n",
              "    <path d=\"M120-120v-720h720v720H120Zm60-500h600v-160H180v160Zm220 220h160v-160H400v160Zm0 220h160v-160H400v160ZM180-400h160v-160H180v160Zm440 0h160v-160H620v160ZM180-180h160v-160H180v160Zm440 0h160v-160H620v160Z\"/>\n",
              "  </svg>\n",
              "    </button>\n",
              "\n",
              "  <style>\n",
              "    .colab-df-container {\n",
              "      display:flex;\n",
              "      gap: 12px;\n",
              "    }\n",
              "\n",
              "    .colab-df-convert {\n",
              "      background-color: #E8F0FE;\n",
              "      border: none;\n",
              "      border-radius: 50%;\n",
              "      cursor: pointer;\n",
              "      display: none;\n",
              "      fill: #1967D2;\n",
              "      height: 32px;\n",
              "      padding: 0 0 0 0;\n",
              "      width: 32px;\n",
              "    }\n",
              "\n",
              "    .colab-df-convert:hover {\n",
              "      background-color: #E2EBFA;\n",
              "      box-shadow: 0px 1px 2px rgba(60, 64, 67, 0.3), 0px 1px 3px 1px rgba(60, 64, 67, 0.15);\n",
              "      fill: #174EA6;\n",
              "    }\n",
              "\n",
              "    .colab-df-buttons div {\n",
              "      margin-bottom: 4px;\n",
              "    }\n",
              "\n",
              "    [theme=dark] .colab-df-convert {\n",
              "      background-color: #3B4455;\n",
              "      fill: #D2E3FC;\n",
              "    }\n",
              "\n",
              "    [theme=dark] .colab-df-convert:hover {\n",
              "      background-color: #434B5C;\n",
              "      box-shadow: 0px 1px 3px 1px rgba(0, 0, 0, 0.15);\n",
              "      filter: drop-shadow(0px 1px 2px rgba(0, 0, 0, 0.3));\n",
              "      fill: #FFFFFF;\n",
              "    }\n",
              "  </style>\n",
              "\n",
              "    <script>\n",
              "      const buttonEl =\n",
              "        document.querySelector('#df-52fb65e1-212d-4273-8f9d-078c3dc98065 button.colab-df-convert');\n",
              "      buttonEl.style.display =\n",
              "        google.colab.kernel.accessAllowed ? 'block' : 'none';\n",
              "\n",
              "      async function convertToInteractive(key) {\n",
              "        const element = document.querySelector('#df-52fb65e1-212d-4273-8f9d-078c3dc98065');\n",
              "        const dataTable =\n",
              "          await google.colab.kernel.invokeFunction('convertToInteractive',\n",
              "                                                    [key], {});\n",
              "        if (!dataTable) return;\n",
              "\n",
              "        const docLinkHtml = 'Like what you see? Visit the ' +\n",
              "          '<a target=\"_blank\" href=https://colab.research.google.com/notebooks/data_table.ipynb>data table notebook</a>'\n",
              "          + ' to learn more about interactive tables.';\n",
              "        element.innerHTML = '';\n",
              "        dataTable['output_type'] = 'display_data';\n",
              "        await google.colab.output.renderOutput(dataTable, element);\n",
              "        const docLink = document.createElement('div');\n",
              "        docLink.innerHTML = docLinkHtml;\n",
              "        element.appendChild(docLink);\n",
              "      }\n",
              "    </script>\n",
              "  </div>\n",
              "\n",
              "\n",
              "<div id=\"df-298f405c-2e43-4d0f-ab46-6ec862b6226b\">\n",
              "  <button class=\"colab-df-quickchart\" onclick=\"quickchart('df-298f405c-2e43-4d0f-ab46-6ec862b6226b')\"\n",
              "            title=\"Suggest charts.\"\n",
              "            style=\"display:none;\">\n",
              "\n",
              "<svg xmlns=\"http://www.w3.org/2000/svg\" height=\"24px\"viewBox=\"0 0 24 24\"\n",
              "     width=\"24px\">\n",
              "    <g>\n",
              "        <path d=\"M19 3H5c-1.1 0-2 .9-2 2v14c0 1.1.9 2 2 2h14c1.1 0 2-.9 2-2V5c0-1.1-.9-2-2-2zM9 17H7v-7h2v7zm4 0h-2V7h2v10zm4 0h-2v-4h2v4z\"/>\n",
              "    </g>\n",
              "</svg>\n",
              "  </button>\n",
              "\n",
              "<style>\n",
              "  .colab-df-quickchart {\n",
              "      --bg-color: #E8F0FE;\n",
              "      --fill-color: #1967D2;\n",
              "      --hover-bg-color: #E2EBFA;\n",
              "      --hover-fill-color: #174EA6;\n",
              "      --disabled-fill-color: #AAA;\n",
              "      --disabled-bg-color: #DDD;\n",
              "  }\n",
              "\n",
              "  [theme=dark] .colab-df-quickchart {\n",
              "      --bg-color: #3B4455;\n",
              "      --fill-color: #D2E3FC;\n",
              "      --hover-bg-color: #434B5C;\n",
              "      --hover-fill-color: #FFFFFF;\n",
              "      --disabled-bg-color: #3B4455;\n",
              "      --disabled-fill-color: #666;\n",
              "  }\n",
              "\n",
              "  .colab-df-quickchart {\n",
              "    background-color: var(--bg-color);\n",
              "    border: none;\n",
              "    border-radius: 50%;\n",
              "    cursor: pointer;\n",
              "    display: none;\n",
              "    fill: var(--fill-color);\n",
              "    height: 32px;\n",
              "    padding: 0;\n",
              "    width: 32px;\n",
              "  }\n",
              "\n",
              "  .colab-df-quickchart:hover {\n",
              "    background-color: var(--hover-bg-color);\n",
              "    box-shadow: 0 1px 2px rgba(60, 64, 67, 0.3), 0 1px 3px 1px rgba(60, 64, 67, 0.15);\n",
              "    fill: var(--button-hover-fill-color);\n",
              "  }\n",
              "\n",
              "  .colab-df-quickchart-complete:disabled,\n",
              "  .colab-df-quickchart-complete:disabled:hover {\n",
              "    background-color: var(--disabled-bg-color);\n",
              "    fill: var(--disabled-fill-color);\n",
              "    box-shadow: none;\n",
              "  }\n",
              "\n",
              "  .colab-df-spinner {\n",
              "    border: 2px solid var(--fill-color);\n",
              "    border-color: transparent;\n",
              "    border-bottom-color: var(--fill-color);\n",
              "    animation:\n",
              "      spin 1s steps(1) infinite;\n",
              "  }\n",
              "\n",
              "  @keyframes spin {\n",
              "    0% {\n",
              "      border-color: transparent;\n",
              "      border-bottom-color: var(--fill-color);\n",
              "      border-left-color: var(--fill-color);\n",
              "    }\n",
              "    20% {\n",
              "      border-color: transparent;\n",
              "      border-left-color: var(--fill-color);\n",
              "      border-top-color: var(--fill-color);\n",
              "    }\n",
              "    30% {\n",
              "      border-color: transparent;\n",
              "      border-left-color: var(--fill-color);\n",
              "      border-top-color: var(--fill-color);\n",
              "      border-right-color: var(--fill-color);\n",
              "    }\n",
              "    40% {\n",
              "      border-color: transparent;\n",
              "      border-right-color: var(--fill-color);\n",
              "      border-top-color: var(--fill-color);\n",
              "    }\n",
              "    60% {\n",
              "      border-color: transparent;\n",
              "      border-right-color: var(--fill-color);\n",
              "    }\n",
              "    80% {\n",
              "      border-color: transparent;\n",
              "      border-right-color: var(--fill-color);\n",
              "      border-bottom-color: var(--fill-color);\n",
              "    }\n",
              "    90% {\n",
              "      border-color: transparent;\n",
              "      border-bottom-color: var(--fill-color);\n",
              "    }\n",
              "  }\n",
              "</style>\n",
              "\n",
              "  <script>\n",
              "    async function quickchart(key) {\n",
              "      const quickchartButtonEl =\n",
              "        document.querySelector('#' + key + ' button');\n",
              "      quickchartButtonEl.disabled = true;  // To prevent multiple clicks.\n",
              "      quickchartButtonEl.classList.add('colab-df-spinner');\n",
              "      try {\n",
              "        const charts = await google.colab.kernel.invokeFunction(\n",
              "            'suggestCharts', [key], {});\n",
              "      } catch (error) {\n",
              "        console.error('Error during call to suggestCharts:', error);\n",
              "      }\n",
              "      quickchartButtonEl.classList.remove('colab-df-spinner');\n",
              "      quickchartButtonEl.classList.add('colab-df-quickchart-complete');\n",
              "    }\n",
              "    (() => {\n",
              "      let quickchartButtonEl =\n",
              "        document.querySelector('#df-298f405c-2e43-4d0f-ab46-6ec862b6226b button');\n",
              "      quickchartButtonEl.style.display =\n",
              "        google.colab.kernel.accessAllowed ? 'block' : 'none';\n",
              "    })();\n",
              "  </script>\n",
              "</div>\n",
              "    </div>\n",
              "  </div>\n"
            ]
          },
          "metadata": {},
          "execution_count": 57
        }
      ]
    },
    {
      "cell_type": "code",
      "source": [
        "## scatter plot for member_only_df\n",
        "# Most of the people don't use the service longer than a day per ride\n",
        "sns.jointplot(data=member_only_df,x=\"start_time\",y=\"ride_duration\",height=16)"
      ],
      "metadata": {
        "colab": {
          "base_uri": "https://localhost:8080/",
          "height": 820
        },
        "id": "RQ9_50nDeEZh",
        "outputId": "4f4b5e7f-f3b7-4c5f-f5e6-39dbd37aa9d3"
      },
      "execution_count": 41,
      "outputs": [
        {
          "output_type": "execute_result",
          "data": {
            "text/plain": [
              "<seaborn.axisgrid.JointGrid at 0x79e9a745fa30>"
            ]
          },
          "metadata": {},
          "execution_count": 41
        },
        {
          "output_type": "display_data",
          "data": {
            "text/plain": [
              "<Figure size 1600x1600 with 3 Axes>"
            ],
            "image/png": "[encoded data removed]"
          },
          "metadata": {}
        }
      ]
    },
    {
      "cell_type": "code",
      "source": [
        "## scatter plot for temp_only_df\n",
        "# More people use the service longer than a day per ride compared to member users\n",
        "sns.jointplot(data=temp_only_df,x=\"start_time\",y=\"ride_duration\",height=16)"
      ],
      "metadata": {
        "colab": {
          "base_uri": "https://localhost:8080/",
          "height": 816
        },
        "id": "ZaQXTEjYfWZ4",
        "outputId": "fe3c1be8-ed77-4c4d-e358-a6bf10b018d1"
      },
      "execution_count": 39,
      "outputs": [
        {
          "output_type": "execute_result",
          "data": {
            "text/plain": [
              "<seaborn.axisgrid.JointGrid at 0x79e9a745fac0>"
            ]
          },
          "metadata": {},
          "execution_count": 39
        },
        {
          "output_type": "display_data",
          "data": {
            "text/plain": [
              "<Figure size 1600x1600 with 3 Axes>"
            ],
            "image/png": "[encoded data removed]"
          },
          "metadata": {}
        }
      ]
    },
    {
      "cell_type": "markdown",
      "source": [
        "# Conclusion\n",
        "\n",
        "**Insights for action:**\n",
        "What kind of promotion for casual users to become members is effective?\n",
        "\n",
        "**Findings from data:**\n",
        "Helpful findings for deciding promotion plan\n",
        "\n",
        "1.\n",
        "2.\n",
        "3.\n",
        "4.\n",
        "5.\n",
        "\n",
        "**Limitation of my analysis**\n",
        "\n"
      ],
      "metadata": {
        "id": "hjLlCkCA2Yhf"
      }
    }
  ],
  "metadata": {
    "colab": {
      "provenance": [],
      "authorship_tag": "ABX9TyMdz4yREHc6k7RnxQJLu/16",
      "include_colab_link": true
    },
    "kernelspec": {
      "display_name": "Python 3",
      "name": "python3"
    },
    "language_info": {
      "name": "python"
    }
  },
  "nbformat": 4,
  "nbformat_minor": 0
}